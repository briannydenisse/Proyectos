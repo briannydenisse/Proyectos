{
  "cells": [
    {
      "cell_type": "markdown",
      "id": "f430cc82-0e07-4345-b40c-3a1e22de51ff",
      "metadata": {
        "id": "f430cc82-0e07-4345-b40c-3a1e22de51ff"
      },
      "source": [
        "<h1><font color=\"#113D68\" size=5>Redes neuronales y deep learning</font></h1>\n",
        "\n",
        "\n",
        "\n",
        "<h1><font color=\"#113D68\" size=6>Caso Práctico: análisis de un problema de regresión con Deep Learning</font></h1>\n",
        "\n",
        "\n",
        "<br><br>\n",
        "<div style=\"text-align: right\">\n",
        "<font size=3>Brianny Hernandez</font><br>\n",
        "<font size=3>Semana 3: Ajuste de modelos de Deep Learning</font><br>\n",
        "<font size=3>IEBS</font>\n",
        "</div>\n",
        "\n",
        "---\n"
      ]
    },
    {
      "cell_type": "markdown",
      "id": "1dba54fa-f73e-40c2-9883-b4186be0a564",
      "metadata": {
        "id": "1dba54fa-f73e-40c2-9883-b4186be0a564"
      },
      "source": [
        "<a id=\"indice\"></a>\n",
        "<h2><font color=\"#004D7F\" size=5>Índice</font></h2>\n",
        "\n",
        "* [Caso práctico](#section1)\n",
        "    - [Parte obligatoria](#section1.1)\n",
        "    - [Parte opcional](#section1.2)\n",
        "    - [Objetivos](#section1.3)\n",
        "    - [Criterios de entrega](#section1.4)\n",
        "    - [Temporalización](#section1.5)\n",
        "* [California Housing Dataset](#section2)\n",
        "* [Establecer una función de coste adecuada a nuestro problema](#section3)\n",
        "* [Overfitting sobre un pequeño conjunto de datos](#section4)\n",
        "    - [Ejercicio 1](section4.1)\n",
        "    - [Ejercicio 2](section4.2)\n",
        "    - [Ejercicio 3](section4.3)\n",
        "    - [Ejercicio 4](section4.4)\n",
        "    - [Ejercicio 5](section4.5)\n",
        "* [Elegimos un Optimizer](#section5)\n",
        "    - [Ejercicio 6](section5.1)\n",
        "    - [Ejercicio 7](section5.2)\n",
        "    - [Ejercicio 8](section5.3)\n",
        "* [Probar diferentes configuraciones con un número pequeño de epochs](#section6)\n",
        "    - [Ejercicio 9](section6.1)\n",
        "    - [Ejercicio 10](section6.2)\n",
        "* [Ajuste refinado de los parámetros con más epochs](#section7)\n",
        "    - [Ejercicio 11](section7.1)\n",
        "    - [Ejercicio 12](section7.2)"
      ]
    },
    {
      "cell_type": "code",
      "execution_count": 1,
      "id": "e063b23e-4fb9-42ea-b062-48b9657a0acd",
      "metadata": {
        "id": "e063b23e-4fb9-42ea-b062-48b9657a0acd"
      },
      "outputs": [],
      "source": [
        "import tensorflow as tf\n",
        "import numpy as np\n",
        "import pandas as pd\n",
        "\n",
        "# Para mostrar gráficas\n",
        "import matplotlib.pyplot as plt\n",
        "%matplotlib inline\n",
        "\n",
        "# Anaconda fixing problem\n",
        "import os\n",
        "os.environ['KMP_DUPLICATE_LIB_OK']='True'"
      ]
    },
    {
      "cell_type": "markdown",
      "id": "6e317bcf-3b1a-45ca-8505-8472b270353f",
      "metadata": {
        "id": "6e317bcf-3b1a-45ca-8505-8472b270353f"
      },
      "source": [
        "# <font color=\"#004D7F\" size=5>Caso práctico</font>\n",
        "\n",
        "El objetivo de este caso práctico es simular como se haría un análisis completo de un problema para resolverlo con Deep Learning. Nos pondremos en la piel de un *data scientist* dedicado a analizar y crear modelos de Deep Learning para pasarlos a producción y ser desplegados en una aplicación.\n",
        "\n",
        "**Destacar que este caso práctico es la continuación de la última actividad realizada en la semana anterior. En la actividad de la semana anterior encontramos la mejor arquitectura para los datos que tenemos y ahora vmoas a realizar más experimentos jugando con los optimizers y el valor del learning rate.**\n",
        "\n",
        "Imaginemos que tenemos un dataset completo que queremos explotar, nuestra labor será coger este dataset (California Housing Dataset) y desde 0 intentar llegar conseguir un modelo que tenga un buen rendimiento ajustándolo poco a poco como hemos visto en clase. Por lo que tendrmeos que entrerar distintas redes y comparar los resultados que obtengamos en cada experimento para ver cual es mejor.\n",
        "\n",
        "Cada experimento que tendremos que realizar estará bien definido, la red que deberéis crear y entrenar será proporcinada por lo que solamente tendréis que crear la red que se nos indica con TensorFlow y realizar el entrenamiento de la misma.\n",
        "\n",
        "## <font color=\"#004D7F\" size=4>Parte obligatoria</font>\n",
        "\n",
        "Será obligatorio realizar cada uno de los ejercicios que están definidos. En cada ejercicio está definida la red que se tiene que crear y la configuración con la que se tiene que entrenar, por lo que solamente tendréis que pasar esa definición a código con TensorFlow.\n",
        "\n",
        "Para tener una buena práctica en la realización de este caso práctico se ofrecen esta recomendaciones:\n",
        "\n",
        "- Utiliza correctamente el sistema de celdas de jupyter. La libreta está realizada de tal forma que solo tendréis que completar las celdas que se indican, ya sea con código o con texto en markdown. Se recomienda rellenar solamente las celdas indicadas para que quede un informe limpio y fácil de seguir. Si fuera necesario incluir más celdas por cualquier motivo se puede hacer pero realizarlo con cuidado para no ensuciar demasiado la libreta.\n",
        "<br><br>\n",
        "- Las redes que tendréis que crear en cada experimento son las vistas en clase, por lo que os podéis inspirar en los ejemplos vistos en los tutoriales. Os recomiendo que no copiéis y peguéis código tal cual, sino que lo escribáis por vuestra cuenta y entendáis lo que estáis haciendo en cada momento. Tomaros el tiempo que haga falta para entender cada paso.\n",
        "<br><br>\n",
        "- Comprueba que todo se ejecuta correctamente antes de enviar tu trabajo. La mejor forma de enviarlo es exportando la libreta a pdf o html para enviarla en un formato más profesional.\n",
        "\n",
        "## <font color=\"#004D7F\" size=4>Parte opcional</font>\n",
        "La parte opcional son los últimos ejercicios donde tendréis que sacar una conclusión de si la red que habéis llegado a conseguir tiene un buen rendimiento.\n",
        "\n",
        "## <font color=\"#004D7F\" size=4>Objetivos</font>\n",
        "* Cargar y entender los datos del dataset California Housing con los que se trabajarán.\n",
        "* Crear cada una de las redes indicadas en los experimentos.\n",
        "* Entrenar cada una de las redes creadas en los experimentos.\n",
        "* Entender los resultados obtenidos en cada entrenamiento.\n",
        "\n",
        "## <font color=\"#004D7F\" size=4>Criterios de entrega</font>\n",
        "Se deberá entregar una libreta de jupyter, aunque se agradecerá que el formato entregado se html o pdf, el trabajo debe estar autocontenido, incluyendo código y texto explicativo para cada sección."
      ]
    },
    {
      "cell_type": "markdown",
      "id": "4f1aaf67-907f-4b6b-afeb-590f5e5b0e47",
      "metadata": {
        "id": "4f1aaf67-907f-4b6b-afeb-590f5e5b0e47"
      },
      "source": [
        "# <font color=\"#004D7F\" size=5>California Housing Dataset</font>\n",
        "En este notebook vamos a usar un dataset nuevo, el dataset es muy parecido al dataset del precio de las casas de boston. Esta vez vamos a utilizar un conjunto de datos que contienen información sobre el precio de las casas encontradas en un distrito de California. Las columnas son las siguientes:\n",
        "\n",
        "- _longitude_: cuanto de al oeste está una casa; un valor más alto está más al oeste.\n",
        "- _latitude_: cuanto de al norte está una casa; un valor más alto está más al norte.\n",
        "- _housing_median_age_: edad media de una casa; un valor bajo es una casa más nueva.\n",
        "- _total_rooms_: número total de habitaciones.\n",
        "- _total_bedrooms_: número total de dormitorios.\n",
        "- _population_: número total de personas que residen.\n",
        "- _households_: número total de hogares, un grupo de personas que residen dentro de una unidad de vivienda.\n",
        "- _median_income_: ingreso medio de los hogares dentro de un bloque de casas (medido en decenas de miles de dólares).\n",
        "- _ocean_proximity_: ubicación de la casa cerca del océano o mar.\n",
        "- _median_house_value (**variables a predecir**)_: valor medio de la vivienda (medido en dólares).\n",
        "\n",
        "Vamos a cargar los datos desde el fichero `housing.csv`:"
      ]
    },
    {
      "cell_type": "code",
      "execution_count": 49,
      "id": "ad482b16-92bc-42a2-8515-cfc9d9018a81",
      "metadata": {
        "id": "ad482b16-92bc-42a2-8515-cfc9d9018a81"
      },
      "outputs": [],
      "source": [
        "df = pd.read_csv('housing.csv')"
      ]
    },
    {
      "cell_type": "code",
      "execution_count": 3,
      "id": "815c3f5b-9019-4799-865c-25419f6814d1",
      "metadata": {
        "colab": {
          "base_uri": "https://localhost:8080/",
          "height": 226
        },
        "id": "815c3f5b-9019-4799-865c-25419f6814d1",
        "outputId": "1628e623-daf9-452b-9918-0795149233de"
      },
      "outputs": [
        {
          "output_type": "execute_result",
          "data": {
            "text/plain": [
              "   longitude  latitude  housing_median_age  total_rooms  total_bedrooms  \\\n",
              "0    -122.23     37.88                41.0        880.0           129.0   \n",
              "1    -122.22     37.86                21.0       7099.0          1106.0   \n",
              "2    -122.24     37.85                52.0       1467.0           190.0   \n",
              "3    -122.25     37.85                52.0       1274.0           235.0   \n",
              "4    -122.25     37.85                52.0       1627.0           280.0   \n",
              "\n",
              "   population  households  median_income  ocean_proximity  median_house_value  \n",
              "0       322.0       126.0         8.3252                3            452600.0  \n",
              "1      2401.0      1138.0         8.3014                3            358500.0  \n",
              "2       496.0       177.0         7.2574                3            352100.0  \n",
              "3       558.0       219.0         5.6431                3            341300.0  \n",
              "4       565.0       259.0         3.8462                3            342200.0  "
            ],
            "text/html": [
              "\n",
              "  <div id=\"df-8a39f002-4548-48d2-a589-aecb7d9ced79\" class=\"colab-df-container\">\n",
              "    <div>\n",
              "<style scoped>\n",
              "    .dataframe tbody tr th:only-of-type {\n",
              "        vertical-align: middle;\n",
              "    }\n",
              "\n",
              "    .dataframe tbody tr th {\n",
              "        vertical-align: top;\n",
              "    }\n",
              "\n",
              "    .dataframe thead th {\n",
              "        text-align: right;\n",
              "    }\n",
              "</style>\n",
              "<table border=\"1\" class=\"dataframe\">\n",
              "  <thead>\n",
              "    <tr style=\"text-align: right;\">\n",
              "      <th></th>\n",
              "      <th>longitude</th>\n",
              "      <th>latitude</th>\n",
              "      <th>housing_median_age</th>\n",
              "      <th>total_rooms</th>\n",
              "      <th>total_bedrooms</th>\n",
              "      <th>population</th>\n",
              "      <th>households</th>\n",
              "      <th>median_income</th>\n",
              "      <th>ocean_proximity</th>\n",
              "      <th>median_house_value</th>\n",
              "    </tr>\n",
              "  </thead>\n",
              "  <tbody>\n",
              "    <tr>\n",
              "      <th>0</th>\n",
              "      <td>-122.23</td>\n",
              "      <td>37.88</td>\n",
              "      <td>41.0</td>\n",
              "      <td>880.0</td>\n",
              "      <td>129.0</td>\n",
              "      <td>322.0</td>\n",
              "      <td>126.0</td>\n",
              "      <td>8.3252</td>\n",
              "      <td>3</td>\n",
              "      <td>452600.0</td>\n",
              "    </tr>\n",
              "    <tr>\n",
              "      <th>1</th>\n",
              "      <td>-122.22</td>\n",
              "      <td>37.86</td>\n",
              "      <td>21.0</td>\n",
              "      <td>7099.0</td>\n",
              "      <td>1106.0</td>\n",
              "      <td>2401.0</td>\n",
              "      <td>1138.0</td>\n",
              "      <td>8.3014</td>\n",
              "      <td>3</td>\n",
              "      <td>358500.0</td>\n",
              "    </tr>\n",
              "    <tr>\n",
              "      <th>2</th>\n",
              "      <td>-122.24</td>\n",
              "      <td>37.85</td>\n",
              "      <td>52.0</td>\n",
              "      <td>1467.0</td>\n",
              "      <td>190.0</td>\n",
              "      <td>496.0</td>\n",
              "      <td>177.0</td>\n",
              "      <td>7.2574</td>\n",
              "      <td>3</td>\n",
              "      <td>352100.0</td>\n",
              "    </tr>\n",
              "    <tr>\n",
              "      <th>3</th>\n",
              "      <td>-122.25</td>\n",
              "      <td>37.85</td>\n",
              "      <td>52.0</td>\n",
              "      <td>1274.0</td>\n",
              "      <td>235.0</td>\n",
              "      <td>558.0</td>\n",
              "      <td>219.0</td>\n",
              "      <td>5.6431</td>\n",
              "      <td>3</td>\n",
              "      <td>341300.0</td>\n",
              "    </tr>\n",
              "    <tr>\n",
              "      <th>4</th>\n",
              "      <td>-122.25</td>\n",
              "      <td>37.85</td>\n",
              "      <td>52.0</td>\n",
              "      <td>1627.0</td>\n",
              "      <td>280.0</td>\n",
              "      <td>565.0</td>\n",
              "      <td>259.0</td>\n",
              "      <td>3.8462</td>\n",
              "      <td>3</td>\n",
              "      <td>342200.0</td>\n",
              "    </tr>\n",
              "  </tbody>\n",
              "</table>\n",
              "</div>\n",
              "    <div class=\"colab-df-buttons\">\n",
              "\n",
              "  <div class=\"colab-df-container\">\n",
              "    <button class=\"colab-df-convert\" onclick=\"convertToInteractive('df-8a39f002-4548-48d2-a589-aecb7d9ced79')\"\n",
              "            title=\"Convert this dataframe to an interactive table.\"\n",
              "            style=\"display:none;\">\n",
              "\n",
              "  <svg xmlns=\"http://www.w3.org/2000/svg\" height=\"24px\" viewBox=\"0 -960 960 960\">\n",
              "    <path d=\"M120-120v-720h720v720H120Zm60-500h600v-160H180v160Zm220 220h160v-160H400v160Zm0 220h160v-160H400v160ZM180-400h160v-160H180v160Zm440 0h160v-160H620v160ZM180-180h160v-160H180v160Zm440 0h160v-160H620v160Z\"/>\n",
              "  </svg>\n",
              "    </button>\n",
              "\n",
              "  <style>\n",
              "    .colab-df-container {\n",
              "      display:flex;\n",
              "      gap: 12px;\n",
              "    }\n",
              "\n",
              "    .colab-df-convert {\n",
              "      background-color: #E8F0FE;\n",
              "      border: none;\n",
              "      border-radius: 50%;\n",
              "      cursor: pointer;\n",
              "      display: none;\n",
              "      fill: #1967D2;\n",
              "      height: 32px;\n",
              "      padding: 0 0 0 0;\n",
              "      width: 32px;\n",
              "    }\n",
              "\n",
              "    .colab-df-convert:hover {\n",
              "      background-color: #E2EBFA;\n",
              "      box-shadow: 0px 1px 2px rgba(60, 64, 67, 0.3), 0px 1px 3px 1px rgba(60, 64, 67, 0.15);\n",
              "      fill: #174EA6;\n",
              "    }\n",
              "\n",
              "    .colab-df-buttons div {\n",
              "      margin-bottom: 4px;\n",
              "    }\n",
              "\n",
              "    [theme=dark] .colab-df-convert {\n",
              "      background-color: #3B4455;\n",
              "      fill: #D2E3FC;\n",
              "    }\n",
              "\n",
              "    [theme=dark] .colab-df-convert:hover {\n",
              "      background-color: #434B5C;\n",
              "      box-shadow: 0px 1px 3px 1px rgba(0, 0, 0, 0.15);\n",
              "      filter: drop-shadow(0px 1px 2px rgba(0, 0, 0, 0.3));\n",
              "      fill: #FFFFFF;\n",
              "    }\n",
              "  </style>\n",
              "\n",
              "    <script>\n",
              "      const buttonEl =\n",
              "        document.querySelector('#df-8a39f002-4548-48d2-a589-aecb7d9ced79 button.colab-df-convert');\n",
              "      buttonEl.style.display =\n",
              "        google.colab.kernel.accessAllowed ? 'block' : 'none';\n",
              "\n",
              "      async function convertToInteractive(key) {\n",
              "        const element = document.querySelector('#df-8a39f002-4548-48d2-a589-aecb7d9ced79');\n",
              "        const dataTable =\n",
              "          await google.colab.kernel.invokeFunction('convertToInteractive',\n",
              "                                                    [key], {});\n",
              "        if (!dataTable) return;\n",
              "\n",
              "        const docLinkHtml = 'Like what you see? Visit the ' +\n",
              "          '<a target=\"_blank\" href=https://colab.research.google.com/notebooks/data_table.ipynb>data table notebook</a>'\n",
              "          + ' to learn more about interactive tables.';\n",
              "        element.innerHTML = '';\n",
              "        dataTable['output_type'] = 'display_data';\n",
              "        await google.colab.output.renderOutput(dataTable, element);\n",
              "        const docLink = document.createElement('div');\n",
              "        docLink.innerHTML = docLinkHtml;\n",
              "        element.appendChild(docLink);\n",
              "      }\n",
              "    </script>\n",
              "  </div>\n",
              "\n",
              "\n",
              "<div id=\"df-821daa4c-fc94-463e-901d-f6361bdb053a\">\n",
              "  <button class=\"colab-df-quickchart\" onclick=\"quickchart('df-821daa4c-fc94-463e-901d-f6361bdb053a')\"\n",
              "            title=\"Suggest charts\"\n",
              "            style=\"display:none;\">\n",
              "\n",
              "<svg xmlns=\"http://www.w3.org/2000/svg\" height=\"24px\"viewBox=\"0 0 24 24\"\n",
              "     width=\"24px\">\n",
              "    <g>\n",
              "        <path d=\"M19 3H5c-1.1 0-2 .9-2 2v14c0 1.1.9 2 2 2h14c1.1 0 2-.9 2-2V5c0-1.1-.9-2-2-2zM9 17H7v-7h2v7zm4 0h-2V7h2v10zm4 0h-2v-4h2v4z\"/>\n",
              "    </g>\n",
              "</svg>\n",
              "  </button>\n",
              "\n",
              "<style>\n",
              "  .colab-df-quickchart {\n",
              "      --bg-color: #E8F0FE;\n",
              "      --fill-color: #1967D2;\n",
              "      --hover-bg-color: #E2EBFA;\n",
              "      --hover-fill-color: #174EA6;\n",
              "      --disabled-fill-color: #AAA;\n",
              "      --disabled-bg-color: #DDD;\n",
              "  }\n",
              "\n",
              "  [theme=dark] .colab-df-quickchart {\n",
              "      --bg-color: #3B4455;\n",
              "      --fill-color: #D2E3FC;\n",
              "      --hover-bg-color: #434B5C;\n",
              "      --hover-fill-color: #FFFFFF;\n",
              "      --disabled-bg-color: #3B4455;\n",
              "      --disabled-fill-color: #666;\n",
              "  }\n",
              "\n",
              "  .colab-df-quickchart {\n",
              "    background-color: var(--bg-color);\n",
              "    border: none;\n",
              "    border-radius: 50%;\n",
              "    cursor: pointer;\n",
              "    display: none;\n",
              "    fill: var(--fill-color);\n",
              "    height: 32px;\n",
              "    padding: 0;\n",
              "    width: 32px;\n",
              "  }\n",
              "\n",
              "  .colab-df-quickchart:hover {\n",
              "    background-color: var(--hover-bg-color);\n",
              "    box-shadow: 0 1px 2px rgba(60, 64, 67, 0.3), 0 1px 3px 1px rgba(60, 64, 67, 0.15);\n",
              "    fill: var(--button-hover-fill-color);\n",
              "  }\n",
              "\n",
              "  .colab-df-quickchart-complete:disabled,\n",
              "  .colab-df-quickchart-complete:disabled:hover {\n",
              "    background-color: var(--disabled-bg-color);\n",
              "    fill: var(--disabled-fill-color);\n",
              "    box-shadow: none;\n",
              "  }\n",
              "\n",
              "  .colab-df-spinner {\n",
              "    border: 2px solid var(--fill-color);\n",
              "    border-color: transparent;\n",
              "    border-bottom-color: var(--fill-color);\n",
              "    animation:\n",
              "      spin 1s steps(1) infinite;\n",
              "  }\n",
              "\n",
              "  @keyframes spin {\n",
              "    0% {\n",
              "      border-color: transparent;\n",
              "      border-bottom-color: var(--fill-color);\n",
              "      border-left-color: var(--fill-color);\n",
              "    }\n",
              "    20% {\n",
              "      border-color: transparent;\n",
              "      border-left-color: var(--fill-color);\n",
              "      border-top-color: var(--fill-color);\n",
              "    }\n",
              "    30% {\n",
              "      border-color: transparent;\n",
              "      border-left-color: var(--fill-color);\n",
              "      border-top-color: var(--fill-color);\n",
              "      border-right-color: var(--fill-color);\n",
              "    }\n",
              "    40% {\n",
              "      border-color: transparent;\n",
              "      border-right-color: var(--fill-color);\n",
              "      border-top-color: var(--fill-color);\n",
              "    }\n",
              "    60% {\n",
              "      border-color: transparent;\n",
              "      border-right-color: var(--fill-color);\n",
              "    }\n",
              "    80% {\n",
              "      border-color: transparent;\n",
              "      border-right-color: var(--fill-color);\n",
              "      border-bottom-color: var(--fill-color);\n",
              "    }\n",
              "    90% {\n",
              "      border-color: transparent;\n",
              "      border-bottom-color: var(--fill-color);\n",
              "    }\n",
              "  }\n",
              "</style>\n",
              "\n",
              "  <script>\n",
              "    async function quickchart(key) {\n",
              "      const quickchartButtonEl =\n",
              "        document.querySelector('#' + key + ' button');\n",
              "      quickchartButtonEl.disabled = true;  // To prevent multiple clicks.\n",
              "      quickchartButtonEl.classList.add('colab-df-spinner');\n",
              "      try {\n",
              "        const charts = await google.colab.kernel.invokeFunction(\n",
              "            'suggestCharts', [key], {});\n",
              "      } catch (error) {\n",
              "        console.error('Error during call to suggestCharts:', error);\n",
              "      }\n",
              "      quickchartButtonEl.classList.remove('colab-df-spinner');\n",
              "      quickchartButtonEl.classList.add('colab-df-quickchart-complete');\n",
              "    }\n",
              "    (() => {\n",
              "      let quickchartButtonEl =\n",
              "        document.querySelector('#df-821daa4c-fc94-463e-901d-f6361bdb053a button');\n",
              "      quickchartButtonEl.style.display =\n",
              "        google.colab.kernel.accessAllowed ? 'block' : 'none';\n",
              "    })();\n",
              "  </script>\n",
              "</div>\n",
              "\n",
              "    </div>\n",
              "  </div>\n"
            ],
            "application/vnd.google.colaboratory.intrinsic+json": {
              "type": "dataframe",
              "variable_name": "df",
              "summary": "{\n  \"name\": \"df\",\n  \"rows\": 20433,\n  \"fields\": [\n    {\n      \"column\": \"longitude\",\n      \"properties\": {\n        \"dtype\": \"number\",\n        \"std\": 2.003577890751073,\n        \"min\": -124.35,\n        \"max\": -114.31,\n        \"num_unique_values\": 844,\n        \"samples\": [\n          -118.62,\n          -119.86,\n          -121.13\n        ],\n        \"semantic_type\": \"\",\n        \"description\": \"\"\n      }\n    },\n    {\n      \"column\": \"latitude\",\n      \"properties\": {\n        \"dtype\": \"number\",\n        \"std\": 2.1363476663780268,\n        \"min\": 32.54,\n        \"max\": 41.95,\n        \"num_unique_values\": 861,\n        \"samples\": [\n          33.5,\n          34.41,\n          38.24\n        ],\n        \"semantic_type\": \"\",\n        \"description\": \"\"\n      }\n    },\n    {\n      \"column\": \"housing_median_age\",\n      \"properties\": {\n        \"dtype\": \"number\",\n        \"std\": 12.591805202182874,\n        \"min\": 1.0,\n        \"max\": 52.0,\n        \"num_unique_values\": 52,\n        \"samples\": [\n          35.0,\n          25.0,\n          7.0\n        ],\n        \"semantic_type\": \"\",\n        \"description\": \"\"\n      }\n    },\n    {\n      \"column\": \"total_rooms\",\n      \"properties\": {\n        \"dtype\": \"number\",\n        \"std\": 2185.2695669775953,\n        \"min\": 2.0,\n        \"max\": 39320.0,\n        \"num_unique_values\": 5911,\n        \"samples\": [\n          7609.0,\n          55.0,\n          811.0\n        ],\n        \"semantic_type\": \"\",\n        \"description\": \"\"\n      }\n    },\n    {\n      \"column\": \"total_bedrooms\",\n      \"properties\": {\n        \"dtype\": \"number\",\n        \"std\": 421.3850700740323,\n        \"min\": 1.0,\n        \"max\": 6445.0,\n        \"num_unique_values\": 1923,\n        \"samples\": [\n          1538.0,\n          1298.0,\n          1578.0\n        ],\n        \"semantic_type\": \"\",\n        \"description\": \"\"\n      }\n    },\n    {\n      \"column\": \"population\",\n      \"properties\": {\n        \"dtype\": \"number\",\n        \"std\": 1133.2084897449556,\n        \"min\": 3.0,\n        \"max\": 35682.0,\n        \"num_unique_values\": 3879,\n        \"samples\": [\n          650.0,\n          506.0,\n          9873.0\n        ],\n        \"semantic_type\": \"\",\n        \"description\": \"\"\n      }\n    },\n    {\n      \"column\": \"households\",\n      \"properties\": {\n        \"dtype\": \"number\",\n        \"std\": 382.2992258828495,\n        \"min\": 1.0,\n        \"max\": 6082.0,\n        \"num_unique_values\": 1809,\n        \"samples\": [\n          1568.0,\n          611.0,\n          741.0\n        ],\n        \"semantic_type\": \"\",\n        \"description\": \"\"\n      }\n    },\n    {\n      \"column\": \"median_income\",\n      \"properties\": {\n        \"dtype\": \"number\",\n        \"std\": 1.8992912493062482,\n        \"min\": 0.4999,\n        \"max\": 15.0001,\n        \"num_unique_values\": 12825,\n        \"samples\": [\n          3.6447,\n          2.9728,\n          2.2989\n        ],\n        \"semantic_type\": \"\",\n        \"description\": \"\"\n      }\n    },\n    {\n      \"column\": \"ocean_proximity\",\n      \"properties\": {\n        \"dtype\": \"number\",\n        \"std\": 1,\n        \"min\": 0,\n        \"max\": 4,\n        \"num_unique_values\": 5,\n        \"samples\": [\n          0,\n          4,\n          1\n        ],\n        \"semantic_type\": \"\",\n        \"description\": \"\"\n      }\n    },\n    {\n      \"column\": \"median_house_value\",\n      \"properties\": {\n        \"dtype\": \"number\",\n        \"std\": 115435.6670985836,\n        \"min\": 14999.0,\n        \"max\": 500001.0,\n        \"num_unique_values\": 3833,\n        \"samples\": [\n          485100.0,\n          303800.0,\n          325700.0\n        ],\n        \"semantic_type\": \"\",\n        \"description\": \"\"\n      }\n    }\n  ]\n}"
            }
          },
          "metadata": {},
          "execution_count": 3
        }
      ],
      "source": [
        "df.head()"
      ]
    },
    {
      "cell_type": "code",
      "execution_count": 4,
      "id": "584e62e4-716b-4fe5-b093-8cd0897b1147",
      "metadata": {
        "colab": {
          "base_uri": "https://localhost:8080/"
        },
        "id": "584e62e4-716b-4fe5-b093-8cd0897b1147",
        "outputId": "6d3bda30-1afb-43c6-f73c-8d048c2ca985"
      },
      "outputs": [
        {
          "output_type": "execute_result",
          "data": {
            "text/plain": [
              "(20433, 10)"
            ]
          },
          "metadata": {},
          "execution_count": 4
        }
      ],
      "source": [
        "df.shape"
      ]
    },
    {
      "cell_type": "markdown",
      "id": "5dcbc720-9ae5-4573-b717-380fc57300db",
      "metadata": {
        "id": "5dcbc720-9ae5-4573-b717-380fc57300db"
      },
      "source": [
        "Vamos a separar la variable objetivo del resto de variables (accedemos al campo value para que los datos sean de tipo _numpy array_ y se puedan usar como variable de entrada de nuestra red):"
      ]
    },
    {
      "cell_type": "code",
      "execution_count": 5,
      "id": "66f94dde-c456-4e7c-8d66-c29989a936d5",
      "metadata": {
        "colab": {
          "base_uri": "https://localhost:8080/"
        },
        "id": "66f94dde-c456-4e7c-8d66-c29989a936d5",
        "outputId": "348090c0-c14f-4336-dcae-2a8885d4f103"
      },
      "outputs": [
        {
          "output_type": "execute_result",
          "data": {
            "text/plain": [
              "Index(['longitude', 'latitude', 'housing_median_age', 'total_rooms',\n",
              "       'total_bedrooms', 'population', 'households', 'median_income',\n",
              "       'ocean_proximity', 'median_house_value'],\n",
              "      dtype='object')"
            ]
          },
          "metadata": {},
          "execution_count": 5
        }
      ],
      "source": [
        "df.columns"
      ]
    },
    {
      "cell_type": "code",
      "execution_count": 50,
      "id": "a3dc67f7-96c7-4d68-a9de-cd7e987d4317",
      "metadata": {
        "id": "a3dc67f7-96c7-4d68-a9de-cd7e987d4317"
      },
      "outputs": [],
      "source": [
        "x = df[['longitude', 'latitude', 'housing_median_age', 'total_rooms',\n",
        "       'total_bedrooms', 'population', 'households', 'median_income',\n",
        "       'ocean_proximity']].values\n",
        "y = df[['median_house_value']].values"
      ]
    },
    {
      "cell_type": "code",
      "source": [
        "#tipo de los datos del df\n",
        "df.dtypes"
      ],
      "metadata": {
        "colab": {
          "base_uri": "https://localhost:8080/"
        },
        "id": "XtDaBBKraidb",
        "outputId": "0488d101-bcba-4be8-a0ec-fa0dbbb05217"
      },
      "id": "XtDaBBKraidb",
      "execution_count": 7,
      "outputs": [
        {
          "output_type": "execute_result",
          "data": {
            "text/plain": [
              "longitude             float64\n",
              "latitude              float64\n",
              "housing_median_age    float64\n",
              "total_rooms           float64\n",
              "total_bedrooms        float64\n",
              "population            float64\n",
              "households            float64\n",
              "median_income         float64\n",
              "ocean_proximity         int64\n",
              "median_house_value    float64\n",
              "dtype: object"
            ]
          },
          "metadata": {},
          "execution_count": 7
        }
      ]
    },
    {
      "cell_type": "code",
      "source": [
        "#Buscando los valores nulos\n",
        "df.isnull().sum()"
      ],
      "metadata": {
        "colab": {
          "base_uri": "https://localhost:8080/"
        },
        "id": "qmoo1jBvbPLA",
        "outputId": "7dd3bef4-4abf-4464-ee75-679d9ef47483"
      },
      "id": "qmoo1jBvbPLA",
      "execution_count": 9,
      "outputs": [
        {
          "output_type": "execute_result",
          "data": {
            "text/plain": [
              "longitude             0\n",
              "latitude              0\n",
              "housing_median_age    0\n",
              "total_rooms           0\n",
              "total_bedrooms        0\n",
              "population            0\n",
              "households            0\n",
              "median_income         0\n",
              "ocean_proximity       0\n",
              "median_house_value    0\n",
              "dtype: int64"
            ]
          },
          "metadata": {},
          "execution_count": 9
        }
      ]
    },
    {
      "cell_type": "code",
      "source": [
        "#Usando la funcion describe\n",
        "estadisticas_descriptivas = df.describe()\n",
        "print(estadisticas_descriptivas)"
      ],
      "metadata": {
        "colab": {
          "base_uri": "https://localhost:8080/"
        },
        "id": "1S4PaVLzbWgJ",
        "outputId": "13666b88-721a-44a5-e2fd-694764ddc341"
      },
      "id": "1S4PaVLzbWgJ",
      "execution_count": 10,
      "outputs": [
        {
          "output_type": "stream",
          "name": "stdout",
          "text": [
            "          longitude      latitude  housing_median_age   total_rooms  \\\n",
            "count  20433.000000  20433.000000        20433.000000  20433.000000   \n",
            "mean    -119.570689     35.633221           28.633094   2636.504233   \n",
            "std        2.003578      2.136348           12.591805   2185.269567   \n",
            "min     -124.350000     32.540000            1.000000      2.000000   \n",
            "25%     -121.800000     33.930000           18.000000   1450.000000   \n",
            "50%     -118.490000     34.260000           29.000000   2127.000000   \n",
            "75%     -118.010000     37.720000           37.000000   3143.000000   \n",
            "max     -114.310000     41.950000           52.000000  39320.000000   \n",
            "\n",
            "       total_bedrooms    population    households  median_income  \\\n",
            "count    20433.000000  20433.000000  20433.000000   20433.000000   \n",
            "mean       537.870553   1424.946949    499.433465       3.871162   \n",
            "std        421.385070   1133.208490    382.299226       1.899291   \n",
            "min          1.000000      3.000000      1.000000       0.499900   \n",
            "25%        296.000000    787.000000    280.000000       2.563700   \n",
            "50%        435.000000   1166.000000    409.000000       3.536500   \n",
            "75%        647.000000   1722.000000    604.000000       4.744000   \n",
            "max       6445.000000  35682.000000   6082.000000      15.000100   \n",
            "\n",
            "       ocean_proximity  median_house_value  \n",
            "count     20433.000000        20433.000000  \n",
            "mean          0.909411       206864.413155  \n",
            "std           1.004574       115435.667099  \n",
            "min           0.000000        14999.000000  \n",
            "25%           0.000000       119500.000000  \n",
            "50%           1.000000       179700.000000  \n",
            "75%           1.000000       264700.000000  \n",
            "max           4.000000       500001.000000  \n"
          ]
        }
      ]
    },
    {
      "cell_type": "markdown",
      "source": [
        "###Conclusiones\n",
        "\n",
        "La mayoria de los datos en el dataset son float y entero, por lo que nos encontramos antes una problematica de regresion, estos no contienen valores nulos en ninguno de los campos. Los valores de las estadisticas descriptivas nos dan un panorama general al proveer ciertas medidas que nos ayudan con uno de los análisis más simples del dataframe al poder identificar: la cantidad de registros, la media, desviación estándar, el valor mínimo y máximo y los percentiles de cada una de las columnas."
      ],
      "metadata": {
        "id": "DBHdsE0ybtKS"
      },
      "id": "DBHdsE0ybtKS"
    },
    {
      "cell_type": "code",
      "source": [
        "# Mapa de Correlación\n",
        "import seaborn as sns\n",
        "plt.figure(figsize=(15, 3))\n",
        "correlation_matrix = df.corr()\n",
        "sns.heatmap(correlation_matrix, annot=True, cmap='coolwarm')\n",
        "plt.title('Mapa de Correlación')\n",
        "plt.show()"
      ],
      "metadata": {
        "colab": {
          "base_uri": "https://localhost:8080/",
          "height": 388
        },
        "id": "rX4cilfHcTMl",
        "outputId": "833607f1-0a39-4dd4-f8c2-6fe84e30cdd1"
      },
      "id": "rX4cilfHcTMl",
      "execution_count": 12,
      "outputs": [
        {
          "output_type": "display_data",
          "data": {
            "text/plain": [
              "<Figure size 1500x300 with 2 Axes>"
            ],
            "image/png": "[encoded data removed]"
          },
          "metadata": {}
        }
      ]
    },
    {
      "cell_type": "markdown",
      "source": [
        "###Conclusion del mapa de correlacion\n",
        "\n",
        "La variable que mas correlacion tiene con nuestra variable objetivo (median_house_value) es la median_income."
      ],
      "metadata": {
        "id": "BKpT_ZYIcyJH"
      },
      "id": "BKpT_ZYIcyJH"
    },
    {
      "cell_type": "code",
      "source": [
        "#separar los datos en conjuntos de entrenamiento y prueba.\n",
        "from sklearn.model_selection import train_test_split\n",
        "x_train, x_test, y_train, y_test = train_test_split(x, y, test_size=0.2)"
      ],
      "metadata": {
        "id": "IyP8dtigfWSW"
      },
      "id": "IyP8dtigfWSW",
      "execution_count": 51,
      "outputs": []
    },
    {
      "cell_type": "code",
      "source": [
        "#Explorar el conjunto de datos\n",
        "print(\"Num training: \", x_train.shape[0])\n",
        "print(\"Num test: \", x_test.shape[0])\n",
        "print(\"Dimension input: \", x_train.shape)\n",
        "print(\"Dimension output: \", y_train.shape)\n",
        "print(\"Output example: \", y_train[0])"
      ],
      "metadata": {
        "colab": {
          "base_uri": "https://localhost:8080/"
        },
        "id": "b8sMuy2XfdLF",
        "outputId": "08faf9a0-8ad6-4407-ef95-a24bf85720fa"
      },
      "id": "b8sMuy2XfdLF",
      "execution_count": 15,
      "outputs": [
        {
          "output_type": "stream",
          "name": "stdout",
          "text": [
            "Num training:  16346\n",
            "Num test:  4087\n",
            "Dimension input:  (16346, 9)\n",
            "Dimension output:  (16346, 1)\n",
            "Output example:  [255400.]\n"
          ]
        }
      ]
    },
    {
      "cell_type": "markdown",
      "id": "2c2083f7-4a8a-4d7e-8d84-29c7bc8ab5e4",
      "metadata": {
        "id": "2c2083f7-4a8a-4d7e-8d84-29c7bc8ab5e4"
      },
      "source": [
        "## 1. Establecer una función de coste adecuada a nuestro problema.\n",
        "\n",
        "En este caso, como es un problema de regresión y los valores de nuestros datos son tan grandes, elegimos la función de coste `mean_absolute_percentage_error`, este error varía entre los valores 100 y 0 donde 100 es el pero error que podemos llegar a tener y 0 es el mejor error, por lo que en nuestros entrenamientos buscaremos un error más cercano a 0."
      ]
    },
    {
      "cell_type": "code",
      "execution_count": 13,
      "id": "ecce9bab-53be-4608-9ed1-22681a002b45",
      "metadata": {
        "id": "ecce9bab-53be-4608-9ed1-22681a002b45"
      },
      "outputs": [],
      "source": [
        "actual_loss = 'mean_absolute_percentage_error'"
      ]
    },
    {
      "cell_type": "markdown",
      "id": "de461a42-39f5-4e95-834b-3e44dd827b1e",
      "metadata": {
        "id": "de461a42-39f5-4e95-834b-3e44dd827b1e"
      },
      "source": [
        "## 2. Overfitting sobre un pequeño conjunto de datos.\n",
        "\n",
        "Ahora, como ya hemos visto en clase vamos a encontrar una estructura de red que encaje con los datos que vamos a utilizar. Vamos a crear varias redes a ver que talfuncionan.\n",
        "\n",
        "Para hacer entrenamientos rápidos y ver si la red se adapta a los datos vamos a usar solo un subconjunto de los datos, es decir usaremos 1000 datos y no usaremos conjunto de validación."
      ]
    },
    {
      "cell_type": "markdown",
      "id": "be35e870-17dc-4bd6-b980-dfc15407e273",
      "metadata": {
        "id": "be35e870-17dc-4bd6-b980-dfc15407e273"
      },
      "source": [
        "### <font color=\"#004D7F\" size=4>Ejercicio 1</font>\n",
        "\n",
        "Crear una red con la siguiente configuración y entrénala:\n",
        "\n",
        "- **Configuración de la red**:\n",
        "    - Arquitectura de la red:\n",
        "        - *1º Capa*: capa de entrada donde indiques la dimensión de los datos.\n",
        "        - *2º Capa*: capa densa con 8 neuronas y función de activación *relu*.\n",
        "        - *3º Capa*: capa densa con 8 neuronas y función de activación *relu*.\n",
        "        - *4º Capa*: capa de salida con una neurona sin función de activación.\n",
        "        \n",
        "    - Tipo de entrenamiento:\n",
        "        - *Epochs*: 30\n",
        "        - *Optimizador*: *adam*\n",
        "        - *Learning Rate*: 0.001"
      ]
    },
    {
      "cell_type": "code",
      "execution_count": 21,
      "id": "9a4fb414-5ca3-47bc-a796-cfbe3ba2252f",
      "metadata": {
        "colab": {
          "base_uri": "https://localhost:8080/"
        },
        "id": "9a4fb414-5ca3-47bc-a796-cfbe3ba2252f",
        "outputId": "320c8101-3b09-48dc-ab65-83b56ef1337e"
      },
      "outputs": [
        {
          "output_type": "stream",
          "name": "stdout",
          "text": [
            "Model: \"sequential_1\"\n",
            "_________________________________________________________________\n",
            " Layer (type)                Output Shape              Param #   \n",
            "=================================================================\n",
            " dense_3 (Dense)             (None, 8)                 80        \n",
            "                                                                 \n",
            " dense_4 (Dense)             (None, 8)                 72        \n",
            "                                                                 \n",
            " dense_5 (Dense)             (None, 1)                 9         \n",
            "                                                                 \n",
            "=================================================================\n",
            "Total params: 161 (644.00 Byte)\n",
            "Trainable params: 161 (644.00 Byte)\n",
            "Non-trainable params: 0 (0.00 Byte)\n",
            "_________________________________________________________________\n"
          ]
        }
      ],
      "source": [
        "# Arquitectura de la red\n",
        "model1 = tf.keras.models.Sequential([\n",
        "  # Capa de entrada\n",
        "  tf.keras.layers.Input(shape=(9,)),\n",
        "\n",
        "  # Capa oculta\n",
        "  tf.keras.layers.Dense(8, activation='relu'),\n",
        "  tf.keras.layers.Dense(8, activation='relu'),\n",
        "\n",
        "  # Capa de salida\n",
        "  tf.keras.layers.Dense(1)\n",
        "])\n",
        "\n",
        "model1.summary()\n",
        "\n",
        "#Optimizador: adam,  Learning Rate: 0.001\n",
        "\n",
        "opt = tf.keras.optimizers.Adam(\n",
        "    learning_rate=0.001\n",
        ")\n",
        "\n",
        "#Compilar el modelo\n",
        "model1.compile(optimizer=opt,\n",
        "              loss= actual_loss,\n",
        "              metrics=['mean_squared_error'])"
      ]
    },
    {
      "cell_type": "code",
      "source": [
        "hist = model1.fit(x_train[:1000], y_train[:1000], epochs=30)"
      ],
      "metadata": {
        "colab": {
          "base_uri": "https://localhost:8080/"
        },
        "id": "SBuwBg2Yf0YH",
        "outputId": "4a3a33f4-77a5-4b63-c85d-67219287ac92"
      },
      "id": "SBuwBg2Yf0YH",
      "execution_count": 22,
      "outputs": [
        {
          "output_type": "stream",
          "name": "stdout",
          "text": [
            "Epoch 1/30\n",
            "32/32 [==============================] - 1s 2ms/step - loss: 99.6607 - mean_squared_error: 54440431616.0000\n",
            "Epoch 2/30\n",
            "32/32 [==============================] - 0s 2ms/step - loss: 99.3847 - mean_squared_error: 54236782592.0000\n",
            "Epoch 3/30\n",
            "32/32 [==============================] - 0s 2ms/step - loss: 99.0262 - mean_squared_error: 53981278208.0000\n",
            "Epoch 4/30\n",
            "32/32 [==============================] - 0s 2ms/step - loss: 98.5428 - mean_squared_error: 53641936896.0000\n",
            "Epoch 5/30\n",
            "32/32 [==============================] - 0s 2ms/step - loss: 97.8662 - mean_squared_error: 53167161344.0000\n",
            "Epoch 6/30\n",
            "32/32 [==============================] - 0s 2ms/step - loss: 96.9035 - mean_squared_error: 52517015552.0000\n",
            "Epoch 7/30\n",
            "32/32 [==============================] - 0s 2ms/step - loss: 95.5399 - mean_squared_error: 51615256576.0000\n",
            "Epoch 8/30\n",
            "32/32 [==============================] - 0s 2ms/step - loss: 93.6791 - mean_squared_error: 50372587520.0000\n",
            "Epoch 9/30\n",
            "32/32 [==============================] - 0s 2ms/step - loss: 90.8607 - mean_squared_error: 48596627456.0000\n",
            "Epoch 10/30\n",
            "32/32 [==============================] - 0s 2ms/step - loss: 87.2020 - mean_squared_error: 46406340608.0000\n",
            "Epoch 11/30\n",
            "32/32 [==============================] - 0s 2ms/step - loss: 82.9114 - mean_squared_error: 43904589824.0000\n",
            "Epoch 12/30\n",
            "32/32 [==============================] - 0s 2ms/step - loss: 78.1393 - mean_squared_error: 41180360704.0000\n",
            "Epoch 13/30\n",
            "32/32 [==============================] - 0s 2ms/step - loss: 73.1336 - mean_squared_error: 38340632576.0000\n",
            "Epoch 14/30\n",
            "32/32 [==============================] - 0s 2ms/step - loss: 68.5814 - mean_squared_error: 35668926464.0000\n",
            "Epoch 15/30\n",
            "32/32 [==============================] - 0s 2ms/step - loss: 64.7024 - mean_squared_error: 33397288960.0000\n",
            "Epoch 16/30\n",
            "32/32 [==============================] - 0s 2ms/step - loss: 61.6678 - mean_squared_error: 31456010240.0000\n",
            "Epoch 17/30\n",
            "32/32 [==============================] - 0s 2ms/step - loss: 59.3533 - mean_squared_error: 29823524864.0000\n",
            "Epoch 18/30\n",
            "32/32 [==============================] - 0s 2ms/step - loss: 57.7727 - mean_squared_error: 28743106560.0000\n",
            "Epoch 19/30\n",
            "32/32 [==============================] - 0s 2ms/step - loss: 56.6197 - mean_squared_error: 27802243072.0000\n",
            "Epoch 20/30\n",
            "32/32 [==============================] - 0s 2ms/step - loss: 55.7078 - mean_squared_error: 27034331136.0000\n",
            "Epoch 21/30\n",
            "32/32 [==============================] - 0s 2ms/step - loss: 55.3064 - mean_squared_error: 26711721984.0000\n",
            "Epoch 22/30\n",
            "32/32 [==============================] - 0s 2ms/step - loss: 55.1387 - mean_squared_error: 26474532864.0000\n",
            "Epoch 23/30\n",
            "32/32 [==============================] - 0s 2ms/step - loss: 55.0691 - mean_squared_error: 26328838144.0000\n",
            "Epoch 24/30\n",
            "32/32 [==============================] - 0s 2ms/step - loss: 55.0466 - mean_squared_error: 26266329088.0000\n",
            "Epoch 25/30\n",
            "32/32 [==============================] - 0s 2ms/step - loss: 55.0113 - mean_squared_error: 26230626304.0000\n",
            "Epoch 26/30\n",
            "32/32 [==============================] - 0s 2ms/step - loss: 55.0130 - mean_squared_error: 26159648768.0000\n",
            "Epoch 27/30\n",
            "32/32 [==============================] - 0s 2ms/step - loss: 54.9630 - mean_squared_error: 26145966080.0000\n",
            "Epoch 28/30\n",
            "32/32 [==============================] - 0s 2ms/step - loss: 54.9441 - mean_squared_error: 26093373440.0000\n",
            "Epoch 29/30\n",
            "32/32 [==============================] - 0s 2ms/step - loss: 54.9079 - mean_squared_error: 26063646720.0000\n",
            "Epoch 30/30\n",
            "32/32 [==============================] - 0s 2ms/step - loss: 54.8881 - mean_squared_error: 26055354368.0000\n"
          ]
        }
      ]
    },
    {
      "cell_type": "markdown",
      "id": "fdb3cb0e-6ed1-4a13-a391-4166ef00b2ed",
      "metadata": {
        "id": "fdb3cb0e-6ed1-4a13-a391-4166ef00b2ed"
      },
      "source": [
        "### <font color=\"#004D7F\" size=4>Ejercicio 2</font>\n",
        "\n",
        "Vamos a complicar un poco más la arquitectura de la red:\n",
        "\n",
        "- **Configuración de la red**:\n",
        "    - Arquitectura de la red:\n",
        "        - *1º Capa*: capa de entrada donde indiques la dimensión de los datos.\n",
        "        - *2º Capa*: capa densa con 64 neuronas y función de activación *relu*.\n",
        "        - *3º Capa*: capa densa con 32 neuronas y función de activación *relu*.\n",
        "        - *4º Capa*: capa densa con 32 neuronas y función de activación *relu*.\n",
        "        - *5º Capa*: capa de salida con una neurona sin función de activación.\n",
        "        \n",
        "    - Tipo de entrenamiento:\n",
        "        - *Epochs*: 30\n",
        "        - *Optimizador*: *adam*\n",
        "        - *Learning Rate*: 0.001"
      ]
    },
    {
      "cell_type": "code",
      "execution_count": 23,
      "id": "e5c9b03d-ec66-4cfc-bcc5-8502b0bf6250",
      "metadata": {
        "colab": {
          "base_uri": "https://localhost:8080/"
        },
        "id": "e5c9b03d-ec66-4cfc-bcc5-8502b0bf6250",
        "outputId": "2807982d-1bcd-45f3-df23-108f75260e50"
      },
      "outputs": [
        {
          "output_type": "stream",
          "name": "stdout",
          "text": [
            "Model: \"sequential_2\"\n",
            "_________________________________________________________________\n",
            " Layer (type)                Output Shape              Param #   \n",
            "=================================================================\n",
            " dense_6 (Dense)             (None, 64)                640       \n",
            "                                                                 \n",
            " dense_7 (Dense)             (None, 32)                2080      \n",
            "                                                                 \n",
            " dense_8 (Dense)             (None, 32)                1056      \n",
            "                                                                 \n",
            " dense_9 (Dense)             (None, 1)                 33        \n",
            "                                                                 \n",
            "=================================================================\n",
            "Total params: 3809 (14.88 KB)\n",
            "Trainable params: 3809 (14.88 KB)\n",
            "Non-trainable params: 0 (0.00 Byte)\n",
            "_________________________________________________________________\n"
          ]
        }
      ],
      "source": [
        "# Completar\n",
        "# Arquitectura de la red\n",
        "model2 = tf.keras.models.Sequential([\n",
        "  # Capa de entrada\n",
        "  tf.keras.layers.Input(shape=(9,)),\n",
        "\n",
        "  # Capa oculta\n",
        "  tf.keras.layers.Dense(64, activation='relu'),\n",
        "  tf.keras.layers.Dense(32, activation='relu'),\n",
        "  tf.keras.layers.Dense(32, activation='relu'),\n",
        "\n",
        "  # Capa de salida\n",
        "  tf.keras.layers.Dense(1)\n",
        "])\n",
        "\n",
        "model2.summary()\n",
        "\n",
        "#Optimizador: adam,  Learning Rate: 0.001\n",
        "\n",
        "opt = tf.keras.optimizers.Adam(\n",
        "    learning_rate=0.001\n",
        ")\n",
        "\n",
        "#Compilar el modelo\n",
        "model2.compile(optimizer=opt,\n",
        "              loss= actual_loss,\n",
        "              metrics=['mean_squared_error'])"
      ]
    },
    {
      "cell_type": "code",
      "source": [
        "hist = model2.fit(x_train[:1000], y_train[:1000], epochs=30)"
      ],
      "metadata": {
        "colab": {
          "base_uri": "https://localhost:8080/"
        },
        "id": "k8o6L5L-gYRm",
        "outputId": "a7df396c-487f-4f7f-c403-91c9b11947c6"
      },
      "id": "k8o6L5L-gYRm",
      "execution_count": 24,
      "outputs": [
        {
          "output_type": "stream",
          "name": "stdout",
          "text": [
            "Epoch 1/30\n",
            "32/32 [==============================] - 1s 2ms/step - loss: 99.3688 - mean_squared_error: 54274551808.0000\n",
            "Epoch 2/30\n",
            "32/32 [==============================] - 0s 2ms/step - loss: 96.0047 - mean_squared_error: 52099891200.0000\n",
            "Epoch 3/30\n",
            "32/32 [==============================] - 0s 2ms/step - loss: 83.8346 - mean_squared_error: 44878258176.0000\n",
            "Epoch 4/30\n",
            "32/32 [==============================] - 0s 2ms/step - loss: 59.4845 - mean_squared_error: 30378283008.0000\n",
            "Epoch 5/30\n",
            "32/32 [==============================] - 0s 2ms/step - loss: 55.2726 - mean_squared_error: 26076764160.0000\n",
            "Epoch 6/30\n",
            "32/32 [==============================] - 0s 2ms/step - loss: 54.8580 - mean_squared_error: 26490513408.0000\n",
            "Epoch 7/30\n",
            "32/32 [==============================] - 0s 2ms/step - loss: 54.6781 - mean_squared_error: 26112555008.0000\n",
            "Epoch 8/30\n",
            "32/32 [==============================] - 0s 2ms/step - loss: 54.4664 - mean_squared_error: 26347845632.0000\n",
            "Epoch 9/30\n",
            "32/32 [==============================] - 0s 2ms/step - loss: 54.4099 - mean_squared_error: 25521172480.0000\n",
            "Epoch 10/30\n",
            "32/32 [==============================] - 0s 2ms/step - loss: 53.9129 - mean_squared_error: 25912154112.0000\n",
            "Epoch 11/30\n",
            "32/32 [==============================] - 0s 2ms/step - loss: 54.1200 - mean_squared_error: 25246390272.0000\n",
            "Epoch 12/30\n",
            "32/32 [==============================] - 0s 2ms/step - loss: 53.6148 - mean_squared_error: 25830672384.0000\n",
            "Epoch 13/30\n",
            "32/32 [==============================] - 0s 2ms/step - loss: 53.0119 - mean_squared_error: 25331755008.0000\n",
            "Epoch 14/30\n",
            "32/32 [==============================] - 0s 2ms/step - loss: 52.6880 - mean_squared_error: 24894459904.0000\n",
            "Epoch 15/30\n",
            "32/32 [==============================] - 0s 2ms/step - loss: 52.3451 - mean_squared_error: 24860827648.0000\n",
            "Epoch 16/30\n",
            "32/32 [==============================] - 0s 2ms/step - loss: 52.0154 - mean_squared_error: 24820369408.0000\n",
            "Epoch 17/30\n",
            "32/32 [==============================] - 0s 2ms/step - loss: 51.6607 - mean_squared_error: 24323356672.0000\n",
            "Epoch 18/30\n",
            "32/32 [==============================] - 0s 2ms/step - loss: 51.1456 - mean_squared_error: 23986075648.0000\n",
            "Epoch 19/30\n",
            "32/32 [==============================] - 0s 2ms/step - loss: 50.6906 - mean_squared_error: 23728930816.0000\n",
            "Epoch 20/30\n",
            "32/32 [==============================] - 0s 2ms/step - loss: 50.2057 - mean_squared_error: 23107188736.0000\n",
            "Epoch 21/30\n",
            "32/32 [==============================] - 0s 2ms/step - loss: 49.6901 - mean_squared_error: 23512004608.0000\n",
            "Epoch 22/30\n",
            "32/32 [==============================] - 0s 2ms/step - loss: 49.2396 - mean_squared_error: 22976598016.0000\n",
            "Epoch 23/30\n",
            "32/32 [==============================] - 0s 2ms/step - loss: 48.5595 - mean_squared_error: 22422884352.0000\n",
            "Epoch 24/30\n",
            "32/32 [==============================] - 0s 2ms/step - loss: 47.9989 - mean_squared_error: 22248656896.0000\n",
            "Epoch 25/30\n",
            "32/32 [==============================] - 0s 2ms/step - loss: 47.3284 - mean_squared_error: 21924657152.0000\n",
            "Epoch 26/30\n",
            "32/32 [==============================] - 0s 2ms/step - loss: 46.7777 - mean_squared_error: 20970364928.0000\n",
            "Epoch 27/30\n",
            "32/32 [==============================] - 0s 2ms/step - loss: 46.1131 - mean_squared_error: 21342324736.0000\n",
            "Epoch 28/30\n",
            "32/32 [==============================] - 0s 2ms/step - loss: 45.6046 - mean_squared_error: 20492560384.0000\n",
            "Epoch 29/30\n",
            "32/32 [==============================] - 0s 2ms/step - loss: 45.1521 - mean_squared_error: 20398819328.0000\n",
            "Epoch 30/30\n",
            "32/32 [==============================] - 0s 2ms/step - loss: 44.6975 - mean_squared_error: 20153268224.0000\n"
          ]
        }
      ]
    },
    {
      "cell_type": "markdown",
      "id": "5a95d5de-4044-46f0-a5c1-18e9a1514c55",
      "metadata": {
        "id": "5a95d5de-4044-46f0-a5c1-18e9a1514c55"
      },
      "source": [
        "### <font color=\"#004D7F\" size=4>Ejercicio 3</font>\n",
        "\n",
        "Vamos a complicar aun más la arquitectura de la red:\n",
        "\n",
        "- **Configuración de la red**:\n",
        "    - Arquitectura de la red:\n",
        "        - *1º Capa*: capa de entrada donde indiques la dimensión de los datos.\n",
        "        - *2º Capa*: capa densa con 128 neuronas y función de activación *relu*.\n",
        "        - *3º Capa*: capa densa con 64 neuronas y función de activación *relu*.\n",
        "        - *4º Capa*: capa densa con 32 neuronas y función de activación *relu*.\n",
        "        - *5º Capa*: capa densa con 16 neuronas y función de activación *relu*.\n",
        "        - *6º Capa*: capa de salida con una neurona sin función de activación.\n",
        "        \n",
        "    - Tipo de entrenamiento:\n",
        "        - *Epochs*: 30\n",
        "        - *Optimizador*: *adam*\n",
        "        - *Learning Rate*: 0.001"
      ]
    },
    {
      "cell_type": "code",
      "execution_count": 25,
      "id": "038f48ba-ed0f-44d1-a57c-ceca899347af",
      "metadata": {
        "colab": {
          "base_uri": "https://localhost:8080/"
        },
        "id": "038f48ba-ed0f-44d1-a57c-ceca899347af",
        "outputId": "5aa9f4fb-e911-475b-daec-adb7d9c64781"
      },
      "outputs": [
        {
          "output_type": "stream",
          "name": "stdout",
          "text": [
            "Model: \"sequential_3\"\n",
            "_________________________________________________________________\n",
            " Layer (type)                Output Shape              Param #   \n",
            "=================================================================\n",
            " dense_10 (Dense)            (None, 128)               1280      \n",
            "                                                                 \n",
            " dense_11 (Dense)            (None, 64)                8256      \n",
            "                                                                 \n",
            " dense_12 (Dense)            (None, 32)                2080      \n",
            "                                                                 \n",
            " dense_13 (Dense)            (None, 16)                528       \n",
            "                                                                 \n",
            " dense_14 (Dense)            (None, 1)                 17        \n",
            "                                                                 \n",
            "=================================================================\n",
            "Total params: 12161 (47.50 KB)\n",
            "Trainable params: 12161 (47.50 KB)\n",
            "Non-trainable params: 0 (0.00 Byte)\n",
            "_________________________________________________________________\n"
          ]
        }
      ],
      "source": [
        "# Completar\n",
        "# Arquitectura de la red\n",
        "model3 = tf.keras.models.Sequential([\n",
        "  # Capa de entrada\n",
        "  tf.keras.layers.Input(shape=(9,)),\n",
        "\n",
        "  # Capa oculta\n",
        "  tf.keras.layers.Dense(128, activation='relu'),\n",
        "  tf.keras.layers.Dense(64, activation='relu'),\n",
        "  tf.keras.layers.Dense(32, activation='relu'),\n",
        "  tf.keras.layers.Dense(16, activation='relu'),\n",
        "\n",
        "  # Capa de salida\n",
        "  tf.keras.layers.Dense(1)\n",
        "])\n",
        "\n",
        "model3.summary()\n",
        "\n",
        "#Optimizador: adam,  Learning Rate: 0.001\n",
        "\n",
        "opt = tf.keras.optimizers.Adam(\n",
        "    learning_rate=0.001\n",
        ")\n",
        "\n",
        "#Compilar el modelo\n",
        "model3.compile(optimizer=opt,\n",
        "              loss= actual_loss,\n",
        "              metrics=['mean_squared_error'])"
      ]
    },
    {
      "cell_type": "code",
      "source": [
        "hist = model3.fit(x_train[:1000], y_train[:1000], epochs=30)"
      ],
      "metadata": {
        "colab": {
          "base_uri": "https://localhost:8080/"
        },
        "id": "J7zKKTEcgpI7",
        "outputId": "6a47920b-be6d-4da8-860f-c74cd6846231"
      },
      "id": "J7zKKTEcgpI7",
      "execution_count": 26,
      "outputs": [
        {
          "output_type": "stream",
          "name": "stdout",
          "text": [
            "Epoch 1/30\n",
            "32/32 [==============================] - 1s 2ms/step - loss: 98.3526 - mean_squared_error: 53543636992.0000\n",
            "Epoch 2/30\n",
            "32/32 [==============================] - 0s 2ms/step - loss: 82.5545 - mean_squared_error: 43783225344.0000\n",
            "Epoch 3/30\n",
            "32/32 [==============================] - 0s 2ms/step - loss: 56.5542 - mean_squared_error: 26327293952.0000\n",
            "Epoch 4/30\n",
            "32/32 [==============================] - 0s 2ms/step - loss: 55.2231 - mean_squared_error: 26476441600.0000\n",
            "Epoch 5/30\n",
            "32/32 [==============================] - 0s 2ms/step - loss: 54.9938 - mean_squared_error: 26213820416.0000\n",
            "Epoch 6/30\n",
            "32/32 [==============================] - 0s 2ms/step - loss: 54.3451 - mean_squared_error: 26245447680.0000\n",
            "Epoch 7/30\n",
            "32/32 [==============================] - 0s 2ms/step - loss: 53.7523 - mean_squared_error: 25350074368.0000\n",
            "Epoch 8/30\n",
            "32/32 [==============================] - 0s 2ms/step - loss: 53.3584 - mean_squared_error: 25076596736.0000\n",
            "Epoch 9/30\n",
            "32/32 [==============================] - 0s 2ms/step - loss: 52.9347 - mean_squared_error: 25291538432.0000\n",
            "Epoch 10/30\n",
            "32/32 [==============================] - 0s 2ms/step - loss: 51.9827 - mean_squared_error: 24329392128.0000\n",
            "Epoch 11/30\n",
            "32/32 [==============================] - 0s 2ms/step - loss: 51.3061 - mean_squared_error: 23751294976.0000\n",
            "Epoch 12/30\n",
            "32/32 [==============================] - 0s 2ms/step - loss: 50.4410 - mean_squared_error: 23354896384.0000\n",
            "Epoch 13/30\n",
            "32/32 [==============================] - 0s 2ms/step - loss: 49.1418 - mean_squared_error: 22406518784.0000\n",
            "Epoch 14/30\n",
            "32/32 [==============================] - 0s 2ms/step - loss: 48.1010 - mean_squared_error: 22100326400.0000\n",
            "Epoch 15/30\n",
            "32/32 [==============================] - 0s 2ms/step - loss: 46.6148 - mean_squared_error: 20692721664.0000\n",
            "Epoch 16/30\n",
            "32/32 [==============================] - 0s 2ms/step - loss: 45.5951 - mean_squared_error: 20621969408.0000\n",
            "Epoch 17/30\n",
            "32/32 [==============================] - 0s 2ms/step - loss: 45.1922 - mean_squared_error: 19354556416.0000\n",
            "Epoch 18/30\n",
            "32/32 [==============================] - 0s 2ms/step - loss: 43.9987 - mean_squared_error: 18574682112.0000\n",
            "Epoch 19/30\n",
            "32/32 [==============================] - 0s 2ms/step - loss: 43.7446 - mean_squared_error: 18329174016.0000\n",
            "Epoch 20/30\n",
            "32/32 [==============================] - 0s 2ms/step - loss: 43.5613 - mean_squared_error: 17761718272.0000\n",
            "Epoch 21/30\n",
            "32/32 [==============================] - 0s 2ms/step - loss: 43.3338 - mean_squared_error: 17924306944.0000\n",
            "Epoch 22/30\n",
            "32/32 [==============================] - 0s 2ms/step - loss: 43.1863 - mean_squared_error: 17095706624.0000\n",
            "Epoch 23/30\n",
            "32/32 [==============================] - 0s 2ms/step - loss: 43.0517 - mean_squared_error: 17152055296.0000\n",
            "Epoch 24/30\n",
            "32/32 [==============================] - 0s 2ms/step - loss: 43.0092 - mean_squared_error: 17407258624.0000\n",
            "Epoch 25/30\n",
            "32/32 [==============================] - 0s 2ms/step - loss: 43.5035 - mean_squared_error: 16808005632.0000\n",
            "Epoch 26/30\n",
            "32/32 [==============================] - 0s 2ms/step - loss: 43.1356 - mean_squared_error: 17449148416.0000\n",
            "Epoch 27/30\n",
            "32/32 [==============================] - 0s 2ms/step - loss: 42.9224 - mean_squared_error: 17051739136.0000\n",
            "Epoch 28/30\n",
            "32/32 [==============================] - 0s 2ms/step - loss: 42.8103 - mean_squared_error: 16972774400.0000\n",
            "Epoch 29/30\n",
            "32/32 [==============================] - 0s 2ms/step - loss: 42.6485 - mean_squared_error: 17195655168.0000\n",
            "Epoch 30/30\n",
            "32/32 [==============================] - 0s 2ms/step - loss: 42.8071 - mean_squared_error: 17258545152.0000\n"
          ]
        }
      ]
    },
    {
      "cell_type": "markdown",
      "id": "16c6b16e-38c3-4535-a833-6c7f30195d97",
      "metadata": {
        "id": "16c6b16e-38c3-4535-a833-6c7f30195d97"
      },
      "source": [
        "### <font color=\"#004D7F\" size=4>Ejercicio 4</font>\n",
        "\n",
        "Vamos a hacer una última red con más capas y neuronas:\n",
        "\n",
        "- **Configuración de la red**:\n",
        "    - Arquitectura de la red:\n",
        "        - *1º Capa*: capa de entrada donde indiques la dimensión de los datos.\n",
        "        - *2º Capa*: capa densa con 1024 neuronas y función de activación *relu*.\n",
        "        - *3º Capa*: capa densa con 512 neuronas y función de activación *relu*.\n",
        "        - *4º Capa*: capa densa con 256 neuronas y función de activación *relu*.\n",
        "        - *5º Capa*: capa densa con 128 neuronas y función de activación *relu*.\n",
        "        - *6º Capa*: capa densa con 64 neuronas y función de activación *relu*.\n",
        "        - *7º Capa*: capa densa con 32 neuronas y función de activación *relu*.\n",
        "        - *8º Capa*: capa densa con 16 neuronas y función de activación *relu*.\n",
        "        - *9º Capa*: capa de salida con una neurona sin función de activación.\n",
        "        \n",
        "    - Tipo de entrenamiento:\n",
        "        - *Epochs*: 30\n",
        "        - *Optimizador*: *adam*\n",
        "        - *Learning Rate*: 0.001"
      ]
    },
    {
      "cell_type": "code",
      "execution_count": 27,
      "id": "a734f432-b266-41e3-8b57-1cffdd59a8d9",
      "metadata": {
        "colab": {
          "base_uri": "https://localhost:8080/"
        },
        "id": "a734f432-b266-41e3-8b57-1cffdd59a8d9",
        "outputId": "3305a446-9be7-4e3b-e5b4-077f9c142fb1"
      },
      "outputs": [
        {
          "output_type": "stream",
          "name": "stdout",
          "text": [
            "Model: \"sequential_4\"\n",
            "_________________________________________________________________\n",
            " Layer (type)                Output Shape              Param #   \n",
            "=================================================================\n",
            " dense_15 (Dense)            (None, 1024)              10240     \n",
            "                                                                 \n",
            " dense_16 (Dense)            (None, 512)               524800    \n",
            "                                                                 \n",
            " dense_17 (Dense)            (None, 256)               131328    \n",
            "                                                                 \n",
            " dense_18 (Dense)            (None, 128)               32896     \n",
            "                                                                 \n",
            " dense_19 (Dense)            (None, 64)                8256      \n",
            "                                                                 \n",
            " dense_20 (Dense)            (None, 32)                2080      \n",
            "                                                                 \n",
            " dense_21 (Dense)            (None, 16)                528       \n",
            "                                                                 \n",
            " dense_22 (Dense)            (None, 1)                 17        \n",
            "                                                                 \n",
            "=================================================================\n",
            "Total params: 710145 (2.71 MB)\n",
            "Trainable params: 710145 (2.71 MB)\n",
            "Non-trainable params: 0 (0.00 Byte)\n",
            "_________________________________________________________________\n"
          ]
        }
      ],
      "source": [
        "# Completar\n",
        "# Arquitectura de la red\n",
        "model4 = tf.keras.models.Sequential([\n",
        "  # Capa de entrada\n",
        "  tf.keras.layers.Input(shape=(9,)),\n",
        "\n",
        "  # Capa oculta\n",
        "  tf.keras.layers.Dense(1024, activation='relu'),\n",
        "  tf.keras.layers.Dense(512, activation='relu'),\n",
        "  tf.keras.layers.Dense(256, activation='relu'),\n",
        "  tf.keras.layers.Dense(128, activation='relu'),\n",
        "  tf.keras.layers.Dense(64, activation='relu'),\n",
        "  tf.keras.layers.Dense(32, activation='relu'),\n",
        "  tf.keras.layers.Dense(16, activation='relu'),\n",
        "\n",
        "  # Capa de salida\n",
        "  tf.keras.layers.Dense(1)\n",
        "])\n",
        "\n",
        "model4.summary()\n",
        "\n",
        "#Optimizador: adam,  Learning Rate: 0.001\n",
        "\n",
        "opt = tf.keras.optimizers.Adam(\n",
        "    learning_rate=0.001\n",
        ")\n",
        "\n",
        "#Compilar el modelo\n",
        "model4.compile(optimizer=opt,\n",
        "              loss= actual_loss,\n",
        "              metrics=['mean_squared_error'])"
      ]
    },
    {
      "cell_type": "code",
      "source": [
        "hist = model4.fit(x_train[:1000], y_train[:1000], epochs=30)"
      ],
      "metadata": {
        "colab": {
          "base_uri": "https://localhost:8080/"
        },
        "id": "S9TaSEAFg8AR",
        "outputId": "2487aa1a-569d-480c-8f63-f5fe31c41c77"
      },
      "id": "S9TaSEAFg8AR",
      "execution_count": 28,
      "outputs": [
        {
          "output_type": "stream",
          "name": "stdout",
          "text": [
            "Epoch 1/30\n",
            "32/32 [==============================] - 2s 13ms/step - loss: 73.5101 - mean_squared_error: 38295412736.0000\n",
            "Epoch 2/30\n",
            "32/32 [==============================] - 0s 13ms/step - loss: 55.4613 - mean_squared_error: 26951618560.0000\n",
            "Epoch 3/30\n",
            "32/32 [==============================] - 0s 12ms/step - loss: 52.9952 - mean_squared_error: 25596207104.0000\n",
            "Epoch 4/30\n",
            "32/32 [==============================] - 0s 13ms/step - loss: 50.7486 - mean_squared_error: 22902362112.0000\n",
            "Epoch 5/30\n",
            "32/32 [==============================] - 0s 13ms/step - loss: 46.5709 - mean_squared_error: 20280176640.0000\n",
            "Epoch 6/30\n",
            "32/32 [==============================] - 0s 12ms/step - loss: 46.2317 - mean_squared_error: 19922235392.0000\n",
            "Epoch 7/30\n",
            "32/32 [==============================] - 0s 13ms/step - loss: 44.7498 - mean_squared_error: 18234759168.0000\n",
            "Epoch 8/30\n",
            "32/32 [==============================] - 0s 12ms/step - loss: 44.9677 - mean_squared_error: 18015537152.0000\n",
            "Epoch 9/30\n",
            "32/32 [==============================] - 0s 14ms/step - loss: 44.3145 - mean_squared_error: 17656670208.0000\n",
            "Epoch 10/30\n",
            "32/32 [==============================] - 0s 13ms/step - loss: 43.7383 - mean_squared_error: 17247692800.0000\n",
            "Epoch 11/30\n",
            "32/32 [==============================] - 0s 13ms/step - loss: 43.3068 - mean_squared_error: 17082496000.0000\n",
            "Epoch 12/30\n",
            "32/32 [==============================] - 0s 13ms/step - loss: 43.5297 - mean_squared_error: 17207599104.0000\n",
            "Epoch 13/30\n",
            "32/32 [==============================] - 0s 12ms/step - loss: 42.6293 - mean_squared_error: 17013581824.0000\n",
            "Epoch 14/30\n",
            "32/32 [==============================] - 0s 13ms/step - loss: 42.4635 - mean_squared_error: 16250159104.0000\n",
            "Epoch 15/30\n",
            "32/32 [==============================] - 0s 12ms/step - loss: 42.4687 - mean_squared_error: 16087810048.0000\n",
            "Epoch 16/30\n",
            "32/32 [==============================] - 0s 13ms/step - loss: 42.6824 - mean_squared_error: 16776711168.0000\n",
            "Epoch 17/30\n",
            "32/32 [==============================] - 0s 12ms/step - loss: 41.9636 - mean_squared_error: 16067972096.0000\n",
            "Epoch 18/30\n",
            "32/32 [==============================] - 0s 13ms/step - loss: 43.3543 - mean_squared_error: 16986381312.0000\n",
            "Epoch 19/30\n",
            "32/32 [==============================] - 1s 16ms/step - loss: 42.5354 - mean_squared_error: 16511127552.0000\n",
            "Epoch 20/30\n",
            "32/32 [==============================] - 1s 18ms/step - loss: 42.4968 - mean_squared_error: 16233294848.0000\n",
            "Epoch 21/30\n",
            "32/32 [==============================] - 1s 18ms/step - loss: 42.2812 - mean_squared_error: 16104919040.0000\n",
            "Epoch 22/30\n",
            "32/32 [==============================] - 1s 19ms/step - loss: 41.4639 - mean_squared_error: 16152934400.0000\n",
            "Epoch 23/30\n",
            "32/32 [==============================] - 1s 20ms/step - loss: 41.7298 - mean_squared_error: 15113891840.0000\n",
            "Epoch 24/30\n",
            "32/32 [==============================] - 0s 15ms/step - loss: 41.3520 - mean_squared_error: 15094499328.0000\n",
            "Epoch 25/30\n",
            "32/32 [==============================] - 1s 18ms/step - loss: 42.3485 - mean_squared_error: 15136194560.0000\n",
            "Epoch 26/30\n",
            "32/32 [==============================] - 1s 20ms/step - loss: 41.3604 - mean_squared_error: 15403595776.0000\n",
            "Epoch 27/30\n",
            "32/32 [==============================] - 1s 19ms/step - loss: 40.9530 - mean_squared_error: 14826883072.0000\n",
            "Epoch 28/30\n",
            "32/32 [==============================] - 1s 21ms/step - loss: 44.6514 - mean_squared_error: 17166884864.0000\n",
            "Epoch 29/30\n",
            "32/32 [==============================] - 1s 19ms/step - loss: 42.3270 - mean_squared_error: 16351862784.0000\n",
            "Epoch 30/30\n",
            "32/32 [==============================] - 0s 12ms/step - loss: 40.3961 - mean_squared_error: 13779383296.0000\n"
          ]
        }
      ]
    },
    {
      "cell_type": "markdown",
      "id": "22d5229a-67db-44b9-ace7-a7878b6ca373",
      "metadata": {
        "id": "22d5229a-67db-44b9-ace7-a7878b6ca373"
      },
      "source": [
        "### <font color=\"#004D7F\" size=4>Ejercicio 5</font>\n",
        "Compara los resultados obtenidos en cada una de las arquitecturas definidas y quédate con la mejor. **¿En qué experimento se obtiene los mejores resultados?**\n",
        "\n",
        "La arquitectura elegida la usaremos en el caso práctico para seguir ajustando nuestro modelo y alcanzar un buen rendimiento."
      ]
    },
    {
      "cell_type": "code",
      "execution_count": 29,
      "id": "2b9e81cc-be41-4c4e-ac75-13aad86300ca",
      "metadata": {
        "colab": {
          "base_uri": "https://localhost:8080/",
          "height": 607
        },
        "id": "2b9e81cc-be41-4c4e-ac75-13aad86300ca",
        "outputId": "1d84ad64-f0f8-4bde-81af-bb8c55d9f2d0"
      },
      "outputs": [
        {
          "output_type": "display_data",
          "data": {
            "text/plain": [
              "<Figure size 1000x600 with 1 Axes>"
            ],
            "image/png": "[encoded data removed]"
          },
          "metadata": {}
        }
      ],
      "source": [
        "# Pérdida final de cada experimento\n",
        "losses = [54.8881, 44.6975, 42.8071, 40.3961]\n",
        "\n",
        "# Nombres de las arquitecturas\n",
        "architectures = ['Arquitectura 1', 'Arquitectura 2', 'Arquitectura 3', 'Arquitectura 4']\n",
        "\n",
        "# Crear el gráfico de barras\n",
        "plt.figure(figsize=(10, 6))\n",
        "plt.bar(architectures, losses, color='skyblue')\n",
        "plt.xlabel('Arquitectura de la red')\n",
        "plt.ylabel('Pérdida final')\n",
        "plt.title('Comparación de pérdida final entre arquitecturas')\n",
        "plt.xticks(rotation=45)\n",
        "plt.ylim(min(losses) - 2, max(losses) + 2)\n",
        "plt.grid(axis='y', linestyle='--', alpha=0.7)\n",
        "plt.tight_layout()\n",
        "plt.show()"
      ]
    },
    {
      "cell_type": "markdown",
      "source": [
        "Los valores de pérdida obtenidos al final de cada entrenamiento muestran que el modelo con mejores resultados es el 4. Ahora compararemos estos resultados contra el conjunto de data de validacion, para ver si obtenemos resultados semejantes o si para el caso practico hay que seguir puliendo la arquitectura."
      ],
      "metadata": {
        "id": "C4FVtLGMhkwd"
      },
      "id": "C4FVtLGMhkwd"
    },
    {
      "cell_type": "markdown",
      "id": "2f38ec3e-3d9e-4b52-a9c2-40a4f8857e6f",
      "metadata": {
        "id": "2f38ec3e-3d9e-4b52-a9c2-40a4f8857e6f"
      },
      "source": [
        "## 3. Elegimos un Optimizer."
      ]
    },
    {
      "cell_type": "markdown",
      "id": "ed8c324c-5701-442e-9127-e1891e88e475",
      "metadata": {
        "id": "ed8c324c-5701-442e-9127-e1891e88e475"
      },
      "source": [
        "Hemos establecido Adam en los entrenamientos anteriores. Vamos a comprobarlo para el conjunto de validación como funciona y después probaremos a usar un optimizador SGD."
      ]
    },
    {
      "cell_type": "markdown",
      "id": "17f6353c-328c-46ab-8b48-53ad5da43948",
      "metadata": {
        "tags": [],
        "id": "17f6353c-328c-46ab-8b48-53ad5da43948"
      },
      "source": [
        "### <font color=\"#004D7F\" size=4>Ejercicio 6</font>\n",
        "\n",
        "Usa la mejor arquitectura y configuración de entrenamiento de los ejercicios anteriores y entrena con la siguiente configuración:\n",
        "\n",
        "- Usa un `validation_split` de 0.2\n",
        "- Utiliza todos los datos y no solo 1000.\n",
        "- Usa 5 epochs en total."
      ]
    },
    {
      "cell_type": "code",
      "execution_count": 53,
      "id": "7bdad0c5-e32f-42c3-a00b-8adae93b2997",
      "metadata": {
        "colab": {
          "base_uri": "https://localhost:8080/"
        },
        "id": "7bdad0c5-e32f-42c3-a00b-8adae93b2997",
        "outputId": "eb605683-bc2e-4535-b4d1-768fca27f9ad"
      },
      "outputs": [
        {
          "output_type": "stream",
          "name": "stdout",
          "text": [
            "Model: \"sequential_8\"\n",
            "_________________________________________________________________\n",
            " Layer (type)                Output Shape              Param #   \n",
            "=================================================================\n",
            " dense_47 (Dense)            (None, 1024)              10240     \n",
            "                                                                 \n",
            " dense_48 (Dense)            (None, 512)               524800    \n",
            "                                                                 \n",
            " dense_49 (Dense)            (None, 256)               131328    \n",
            "                                                                 \n",
            " dense_50 (Dense)            (None, 128)               32896     \n",
            "                                                                 \n",
            " dense_51 (Dense)            (None, 64)                8256      \n",
            "                                                                 \n",
            " dense_52 (Dense)            (None, 32)                2080      \n",
            "                                                                 \n",
            " dense_53 (Dense)            (None, 16)                528       \n",
            "                                                                 \n",
            " dense_54 (Dense)            (None, 1)                 17        \n",
            "                                                                 \n",
            "=================================================================\n",
            "Total params: 710145 (2.71 MB)\n",
            "Trainable params: 710145 (2.71 MB)\n",
            "Non-trainable params: 0 (0.00 Byte)\n",
            "_________________________________________________________________\n"
          ]
        }
      ],
      "source": [
        "# Completar\n",
        "# Arquitectura de la red\n",
        "model4 = tf.keras.models.Sequential([\n",
        "  # Capa de entrada\n",
        "  tf.keras.layers.Input(shape=(9,)),\n",
        "\n",
        "  # Capa oculta\n",
        "  tf.keras.layers.Dense(1024, activation='relu'),\n",
        "  tf.keras.layers.Dense(512, activation='relu'),\n",
        "  tf.keras.layers.Dense(256, activation='relu'),\n",
        "  tf.keras.layers.Dense(128, activation='relu'),\n",
        "  tf.keras.layers.Dense(64, activation='relu'),\n",
        "  tf.keras.layers.Dense(32, activation='relu'),\n",
        "  tf.keras.layers.Dense(16, activation='relu'),\n",
        "\n",
        "  # Capa de salida\n",
        "  tf.keras.layers.Dense(1)\n",
        "])\n",
        "\n",
        "model4.summary()\n",
        "\n",
        "#Optimizador: adam,  Learning Rate: 0.001\n",
        "\n",
        "opt = tf.keras.optimizers.Adam(\n",
        "    learning_rate=0.001\n",
        ")\n",
        "\n",
        "#Compilar el modelo\n",
        "model4.compile(optimizer=opt,\n",
        "              loss= actual_loss,\n",
        "              metrics=['mean_squared_error'])"
      ]
    },
    {
      "cell_type": "code",
      "source": [
        "hist = model4.fit(x_train, y_train, validation_split=0.2, epochs=5)"
      ],
      "metadata": {
        "colab": {
          "base_uri": "https://localhost:8080/"
        },
        "id": "LhMuxXCkiFhh",
        "outputId": "c105a630-7971-477d-ba0d-0d4b7c21d1d8"
      },
      "id": "LhMuxXCkiFhh",
      "execution_count": 54,
      "outputs": [
        {
          "output_type": "stream",
          "name": "stdout",
          "text": [
            "Epoch 1/5\n",
            "409/409 [==============================] - 8s 15ms/step - loss: 50.2798 - mean_squared_error: 22743291904.0000 - val_loss: 44.2723 - val_mean_squared_error: 20764372992.0000\n",
            "Epoch 2/5\n",
            "409/409 [==============================] - 5s 13ms/step - loss: 42.9449 - mean_squared_error: 16717924352.0000 - val_loss: 41.5481 - val_mean_squared_error: 13260394496.0000\n",
            "Epoch 3/5\n",
            "409/409 [==============================] - 6s 15ms/step - loss: 40.2729 - mean_squared_error: 14119259136.0000 - val_loss: 37.8674 - val_mean_squared_error: 11185739776.0000\n",
            "Epoch 4/5\n",
            "409/409 [==============================] - 5s 12ms/step - loss: 36.9633 - mean_squared_error: 11311496192.0000 - val_loss: 37.2597 - val_mean_squared_error: 13654659072.0000\n",
            "Epoch 5/5\n",
            "409/409 [==============================] - 6s 15ms/step - loss: 35.1648 - mean_squared_error: 10085283840.0000 - val_loss: 33.5049 - val_mean_squared_error: 9358320640.0000\n"
          ]
        }
      ]
    },
    {
      "cell_type": "markdown",
      "id": "56a927c1-3ca7-431a-90d1-e9554c0d6dcb",
      "metadata": {
        "tags": [],
        "id": "56a927c1-3ca7-431a-90d1-e9554c0d6dcb"
      },
      "source": [
        "### <font color=\"#004D7F\" size=4>Ejercicio 7</font>\n",
        "\n",
        "Realiza el mismo entrenamiento que el ejercicio anterior pero usa un optimizador **SGD** en lugar de un Adam."
      ]
    },
    {
      "cell_type": "code",
      "execution_count": 43,
      "id": "8ca696c2-cdce-4391-9d81-20d768bf0537",
      "metadata": {
        "colab": {
          "base_uri": "https://localhost:8080/"
        },
        "id": "8ca696c2-cdce-4391-9d81-20d768bf0537",
        "outputId": "c55d8397-f907-4f75-9b61-c545a3446bb7"
      },
      "outputs": [
        {
          "output_type": "stream",
          "name": "stdout",
          "text": [
            "Model: \"sequential_7\"\n",
            "_________________________________________________________________\n",
            " Layer (type)                Output Shape              Param #   \n",
            "=================================================================\n",
            " dense_39 (Dense)            (None, 1024)              10240     \n",
            "                                                                 \n",
            " dense_40 (Dense)            (None, 512)               524800    \n",
            "                                                                 \n",
            " dense_41 (Dense)            (None, 256)               131328    \n",
            "                                                                 \n",
            " dense_42 (Dense)            (None, 128)               32896     \n",
            "                                                                 \n",
            " dense_43 (Dense)            (None, 64)                8256      \n",
            "                                                                 \n",
            " dense_44 (Dense)            (None, 32)                2080      \n",
            "                                                                 \n",
            " dense_45 (Dense)            (None, 16)                528       \n",
            "                                                                 \n",
            " dense_46 (Dense)            (None, 1)                 17        \n",
            "                                                                 \n",
            "=================================================================\n",
            "Total params: 710145 (2.71 MB)\n",
            "Trainable params: 710145 (2.71 MB)\n",
            "Non-trainable params: 0 (0.00 Byte)\n",
            "_________________________________________________________________\n"
          ]
        }
      ],
      "source": [
        "# Completar\n",
        "# Arquitectura de la red\n",
        "model5 = tf.keras.models.Sequential([\n",
        "  # Capa de entrada\n",
        "  tf.keras.layers.Input(shape=(9,)),\n",
        "\n",
        "  # Capa oculta\n",
        "  tf.keras.layers.Dense(1024, activation='relu'),\n",
        "  tf.keras.layers.Dense(512, activation='relu'),\n",
        "  tf.keras.layers.Dense(256, activation='relu'),\n",
        "  tf.keras.layers.Dense(128, activation='relu'),\n",
        "  tf.keras.layers.Dense(64, activation='relu'),\n",
        "  tf.keras.layers.Dense(32, activation='relu'),\n",
        "  tf.keras.layers.Dense(16, activation='relu'),\n",
        "\n",
        "  # Capa de salida\n",
        "  tf.keras.layers.Dense(1)\n",
        "])\n",
        "\n",
        "model5.summary()\n",
        "\n",
        "#Optimizador: sgd,  Learning Rate: 0.001\n",
        "\n",
        "opt = tf.keras.optimizers.SGD(\n",
        "    learning_rate=0.001\n",
        ")\n",
        "\n",
        "#Compilar el modelo\n",
        "model5.compile(optimizer=opt,\n",
        "              loss= actual_loss,\n",
        "              metrics=['mean_squared_error'])"
      ]
    },
    {
      "cell_type": "code",
      "source": [
        "histsgd = model5.fit(x_train, y_train, validation_split=0.2, epochs=5)"
      ],
      "metadata": {
        "colab": {
          "base_uri": "https://localhost:8080/"
        },
        "id": "0osKtJ6Cji-7",
        "outputId": "9e490ec2-9563-4656-c6a9-04ac6e412828"
      },
      "id": "0osKtJ6Cji-7",
      "execution_count": 44,
      "outputs": [
        {
          "output_type": "stream",
          "name": "stdout",
          "text": [
            "Epoch 1/5\n",
            "409/409 [==============================] - 5s 11ms/step - loss: 99.6738 - mean_squared_error: 55626723328.0000 - val_loss: 98.2796 - val_mean_squared_error: 54736392192.0000\n",
            "Epoch 2/5\n",
            "409/409 [==============================] - 5s 13ms/step - loss: 63.5993 - mean_squared_error: 32169895936.0000 - val_loss: 56.8222 - val_mean_squared_error: 28913369088.0000\n",
            "Epoch 3/5\n",
            "409/409 [==============================] - 4s 10ms/step - loss: 56.7164 - mean_squared_error: 27661125632.0000 - val_loss: 56.3625 - val_mean_squared_error: 27570712576.0000\n",
            "Epoch 4/5\n",
            "409/409 [==============================] - 4s 10ms/step - loss: 56.2456 - mean_squared_error: 27453331456.0000 - val_loss: 55.6736 - val_mean_squared_error: 28325146624.0000\n",
            "Epoch 5/5\n",
            "409/409 [==============================] - 5s 13ms/step - loss: 54.8034 - mean_squared_error: 26553583616.0000 - val_loss: 59.3311 - val_mean_squared_error: 32454166528.0000\n"
          ]
        }
      ]
    },
    {
      "cell_type": "markdown",
      "id": "e1964d40-54a1-4b33-83d0-f0102ffbc267",
      "metadata": {
        "tags": [],
        "id": "e1964d40-54a1-4b33-83d0-f0102ffbc267"
      },
      "source": [
        "### <font color=\"#004D7F\" size=4>Ejercicio 8</font>\n",
        "\n",
        "**¿Qué optimizador ha funcionado mejor?**\n",
        "\n",
        "El optimizador que eligas tendrás que usarlo en los siguientes ejercicios."
      ]
    },
    {
      "cell_type": "code",
      "source": [
        "# Pérdida final de cada experimento\n",
        "losses = [35.1648, 54.8034]\n",
        "\n",
        "# Nombres de las arquitecturas\n",
        "architectures = ['Arquitectura Adam', 'Arquitectura SGD']\n",
        "\n",
        "# Crear el gráfico de barras\n",
        "plt.figure(figsize=(10, 6))\n",
        "plt.bar(architectures, losses, color='skyblue')\n",
        "plt.xlabel('Arquitectura de la red')\n",
        "plt.ylabel('Pérdida final')\n",
        "plt.title('Comparación de pérdida final entre arquitecturas')\n",
        "plt.xticks(rotation=45)\n",
        "plt.ylim(min(losses) - 2, max(losses) + 2)\n",
        "plt.grid(axis='y', linestyle='--', alpha=0.7)\n",
        "plt.tight_layout()\n",
        "plt.show()"
      ],
      "metadata": {
        "colab": {
          "base_uri": "https://localhost:8080/",
          "height": 607
        },
        "id": "tTnv-O4QkwlY",
        "outputId": "03db35b8-d07d-4460-fa75-e3941f06c047"
      },
      "id": "tTnv-O4QkwlY",
      "execution_count": 55,
      "outputs": [
        {
          "output_type": "display_data",
          "data": {
            "text/plain": [
              "<Figure size 1000x600 with 1 Axes>"
            ],
            "image/png": "[encoded data removed]"
          },
          "metadata": {}
        }
      ]
    },
    {
      "cell_type": "markdown",
      "source": [
        "Los valores de pérdida obtenidos al final de cada entrenamiento muestran que el modelo con mejores resultados es el modelo entrenado con ADAM. Ahora compararemos estos resultados contra el conjunto de data de validacion."
      ],
      "metadata": {
        "id": "Sj3EoRyKlXRf"
      },
      "id": "Sj3EoRyKlXRf"
    },
    {
      "cell_type": "code",
      "source": [
        "def show_results(hist):\n",
        "    fig=plt.figure(figsize=(60, 40))\n",
        "\n",
        "    # error\n",
        "    fig.add_subplot(10, 10, 1)\n",
        "    plt.title('Loss')\n",
        "    plt.plot(hist.history['loss'], label='train')\n",
        "    plt.plot(hist.history['val_loss'], label='val')\n",
        "    plt.legend()\n",
        "\n",
        "    # precision\n",
        "    fig.add_subplot(10, 10, 2)\n",
        "    plt.title('mean_squared_error')\n",
        "    plt.plot(hist.history['mean_squared_error'], label='train')\n",
        "    plt.plot(hist.history['val_mean_squared_error'], label='val')\n",
        "    plt.legend()\n",
        "\n",
        "    plt.legend()\n",
        "    plt.show()"
      ],
      "metadata": {
        "id": "pasbjzQulcAI"
      },
      "id": "pasbjzQulcAI",
      "execution_count": 56,
      "outputs": []
    },
    {
      "cell_type": "code",
      "source": [
        "show_results(hist)"
      ],
      "metadata": {
        "colab": {
          "base_uri": "https://localhost:8080/",
          "height": 344
        },
        "id": "eB3g6iTYlijk",
        "outputId": "37628330-0496-4a9f-fde9-30ae9411bd95"
      },
      "id": "eB3g6iTYlijk",
      "execution_count": 57,
      "outputs": [
        {
          "output_type": "display_data",
          "data": {
            "text/plain": [
              "<Figure size 6000x4000 with 2 Axes>"
            ],
            "image/png": "[encoded data removed]"
          },
          "metadata": {}
        }
      ]
    },
    {
      "cell_type": "markdown",
      "source": [
        "La línea azul representa la pérdida (loss) en el conjunto de entrenamiento a lo largo de las épocas (representadas en el eje x). A medida que las épocas avanzan, la pérdida disminuye, lo que indica que el modelo está aprendiendo y mejorando su rendimiento. La línea naranja representa la pérdida en el conjunto de evaluación (validación). Al igual que en el conjunto de entrenamiento, la pérdida disminuye con las épocas.\n",
        "\n",
        "Como ambas líneas se mantienen cerca y disminuyen juntas, es un buen signo de que el modelo está aprendiendo correctamente."
      ],
      "metadata": {
        "id": "0rIdYVTHmMYD"
      },
      "id": "0rIdYVTHmMYD"
    },
    {
      "cell_type": "markdown",
      "id": "77b03e79-c55c-48dd-815b-26536ed2923d",
      "metadata": {
        "id": "77b03e79-c55c-48dd-815b-26536ed2923d"
      },
      "source": [
        "## 4. Probar diferentes configuraciones con un número pequeño de epochs.\n",
        "\n",
        "Vamos a realizar diferentes experimentos cambiando el learning rate de nuestro optimizador."
      ]
    },
    {
      "cell_type": "markdown",
      "id": "5c01a951-e821-4346-b159-0bce6f98b133",
      "metadata": {
        "tags": [],
        "id": "5c01a951-e821-4346-b159-0bce6f98b133"
      },
      "source": [
        "### <font color=\"#004D7F\" size=4>Ejercicio 9</font>\n",
        "\n",
        "Realiza un entrenamiento con la arquitectura y el optimizador que mejor te ha funcionado y utilizar un **learning rate de 0.1**."
      ]
    },
    {
      "cell_type": "code",
      "execution_count": 58,
      "id": "58be2b19-aece-4194-86d9-254528c54bf1",
      "metadata": {
        "colab": {
          "base_uri": "https://localhost:8080/"
        },
        "id": "58be2b19-aece-4194-86d9-254528c54bf1",
        "outputId": "1834b5be-386c-4f5c-821f-f03153b8c935"
      },
      "outputs": [
        {
          "output_type": "stream",
          "name": "stdout",
          "text": [
            "Model: \"sequential_9\"\n",
            "_________________________________________________________________\n",
            " Layer (type)                Output Shape              Param #   \n",
            "=================================================================\n",
            " dense_55 (Dense)            (None, 1024)              10240     \n",
            "                                                                 \n",
            " dense_56 (Dense)            (None, 512)               524800    \n",
            "                                                                 \n",
            " dense_57 (Dense)            (None, 256)               131328    \n",
            "                                                                 \n",
            " dense_58 (Dense)            (None, 128)               32896     \n",
            "                                                                 \n",
            " dense_59 (Dense)            (None, 64)                8256      \n",
            "                                                                 \n",
            " dense_60 (Dense)            (None, 32)                2080      \n",
            "                                                                 \n",
            " dense_61 (Dense)            (None, 16)                528       \n",
            "                                                                 \n",
            " dense_62 (Dense)            (None, 1)                 17        \n",
            "                                                                 \n",
            "=================================================================\n",
            "Total params: 710145 (2.71 MB)\n",
            "Trainable params: 710145 (2.71 MB)\n",
            "Non-trainable params: 0 (0.00 Byte)\n",
            "_________________________________________________________________\n"
          ]
        }
      ],
      "source": [
        "# Completar\n",
        "# Arquitectura de la red\n",
        "model4 = tf.keras.models.Sequential([\n",
        "  # Capa de entrada\n",
        "  tf.keras.layers.Input(shape=(9,)),\n",
        "\n",
        "  # Capa oculta\n",
        "  tf.keras.layers.Dense(1024, activation='relu'),\n",
        "  tf.keras.layers.Dense(512, activation='relu'),\n",
        "  tf.keras.layers.Dense(256, activation='relu'),\n",
        "  tf.keras.layers.Dense(128, activation='relu'),\n",
        "  tf.keras.layers.Dense(64, activation='relu'),\n",
        "  tf.keras.layers.Dense(32, activation='relu'),\n",
        "  tf.keras.layers.Dense(16, activation='relu'),\n",
        "\n",
        "  # Capa de salida\n",
        "  tf.keras.layers.Dense(1)\n",
        "])\n",
        "\n",
        "model4.summary()\n",
        "\n",
        "#Optimizador: adam,  Learning Rate: 0.001\n",
        "\n",
        "opt = tf.keras.optimizers.Adam(\n",
        "    learning_rate=0.1\n",
        ")\n",
        "\n",
        "#Compilar el modelo\n",
        "model4.compile(optimizer=opt,\n",
        "              loss= actual_loss,\n",
        "              metrics=['mean_squared_error'])"
      ]
    },
    {
      "cell_type": "code",
      "source": [
        "hist = model4.fit(x_train, y_train, validation_split=0.2, epochs=5)"
      ],
      "metadata": {
        "colab": {
          "base_uri": "https://localhost:8080/"
        },
        "id": "8T5AbYMVnAHu",
        "outputId": "207d73f4-b25c-46ff-9b69-b980d3ef65cb"
      },
      "id": "8T5AbYMVnAHu",
      "execution_count": 59,
      "outputs": [
        {
          "output_type": "stream",
          "name": "stdout",
          "text": [
            "Epoch 1/5\n",
            "409/409 [==============================] - 8s 16ms/step - loss: 363.4554 - mean_squared_error: 102041485574144.0000 - val_loss: 99.9739 - val_mean_squared_error: 56599658496.0000\n",
            "Epoch 2/5\n",
            "409/409 [==============================] - 5s 13ms/step - loss: 99.9600 - mean_squared_error: 55629475840.0000 - val_loss: 99.9471 - val_mean_squared_error: 56582725632.0000\n",
            "Epoch 3/5\n",
            "409/409 [==============================] - 6s 16ms/step - loss: 99.9328 - mean_squared_error: 55612653568.0000 - val_loss: 99.9203 - val_mean_squared_error: 56565825536.0000\n",
            "Epoch 4/5\n",
            "409/409 [==============================] - 5s 12ms/step - loss: 99.9057 - mean_squared_error: 55595917312.0000 - val_loss: 99.8935 - val_mean_squared_error: 56548921344.0000\n",
            "Epoch 5/5\n",
            "409/409 [==============================] - 5s 13ms/step - loss: 99.8784 - mean_squared_error: 55579242496.0000 - val_loss: 99.8667 - val_mean_squared_error: 56532004864.0000\n"
          ]
        }
      ]
    },
    {
      "cell_type": "markdown",
      "id": "464a5792-743d-43f6-8cdd-651ad86309a1",
      "metadata": {
        "tags": [],
        "id": "464a5792-743d-43f6-8cdd-651ad86309a1"
      },
      "source": [
        "### <font color=\"#004D7F\" size=4>Ejercicio 10</font>\n",
        "\n",
        "Realiza el mismo entrenamiento que el ejercicio anterior pero esta vez usa un **learning rate de 0.0001**."
      ]
    },
    {
      "cell_type": "code",
      "execution_count": 60,
      "id": "fc098f90-e0e6-4984-8d2c-daf290f41f49",
      "metadata": {
        "colab": {
          "base_uri": "https://localhost:8080/"
        },
        "id": "fc098f90-e0e6-4984-8d2c-daf290f41f49",
        "outputId": "3b0789a4-7e37-4752-cc37-5ddbf9945c5d"
      },
      "outputs": [
        {
          "output_type": "stream",
          "name": "stdout",
          "text": [
            "Model: \"sequential_10\"\n",
            "_________________________________________________________________\n",
            " Layer (type)                Output Shape              Param #   \n",
            "=================================================================\n",
            " dense_63 (Dense)            (None, 1024)              10240     \n",
            "                                                                 \n",
            " dense_64 (Dense)            (None, 512)               524800    \n",
            "                                                                 \n",
            " dense_65 (Dense)            (None, 256)               131328    \n",
            "                                                                 \n",
            " dense_66 (Dense)            (None, 128)               32896     \n",
            "                                                                 \n",
            " dense_67 (Dense)            (None, 64)                8256      \n",
            "                                                                 \n",
            " dense_68 (Dense)            (None, 32)                2080      \n",
            "                                                                 \n",
            " dense_69 (Dense)            (None, 16)                528       \n",
            "                                                                 \n",
            " dense_70 (Dense)            (None, 1)                 17        \n",
            "                                                                 \n",
            "=================================================================\n",
            "Total params: 710145 (2.71 MB)\n",
            "Trainable params: 710145 (2.71 MB)\n",
            "Non-trainable params: 0 (0.00 Byte)\n",
            "_________________________________________________________________\n"
          ]
        }
      ],
      "source": [
        "# Completar\n",
        "# Arquitectura de la red\n",
        "model4 = tf.keras.models.Sequential([\n",
        "  # Capa de entrada\n",
        "  tf.keras.layers.Input(shape=(9,)),\n",
        "\n",
        "  # Capa oculta\n",
        "  tf.keras.layers.Dense(1024, activation='relu'),\n",
        "  tf.keras.layers.Dense(512, activation='relu'),\n",
        "  tf.keras.layers.Dense(256, activation='relu'),\n",
        "  tf.keras.layers.Dense(128, activation='relu'),\n",
        "  tf.keras.layers.Dense(64, activation='relu'),\n",
        "  tf.keras.layers.Dense(32, activation='relu'),\n",
        "  tf.keras.layers.Dense(16, activation='relu'),\n",
        "\n",
        "  # Capa de salida\n",
        "  tf.keras.layers.Dense(1)\n",
        "])\n",
        "\n",
        "model4.summary()\n",
        "\n",
        "#Optimizador: adam,  Learning Rate: 0.001\n",
        "\n",
        "opt = tf.keras.optimizers.Adam(\n",
        "    learning_rate=0.0001\n",
        ")\n",
        "\n",
        "#Compilar el modelo\n",
        "model4.compile(optimizer=opt,\n",
        "              loss= actual_loss,\n",
        "              metrics=['mean_squared_error'])"
      ]
    },
    {
      "cell_type": "code",
      "source": [
        "hist = model4.fit(x_train, y_train, validation_split=0.2, epochs=5)"
      ],
      "metadata": {
        "colab": {
          "base_uri": "https://localhost:8080/"
        },
        "id": "LYJxIt2JnTwZ",
        "outputId": "bfd87075-69a8-49f2-9c52-38c1a811330c"
      },
      "id": "LYJxIt2JnTwZ",
      "execution_count": 61,
      "outputs": [
        {
          "output_type": "stream",
          "name": "stdout",
          "text": [
            "Epoch 1/5\n",
            "409/409 [==============================] - 7s 13ms/step - loss: 64.2160 - mean_squared_error: 32911792128.0000 - val_loss: 53.7687 - val_mean_squared_error: 25854849024.0000\n",
            "Epoch 2/5\n",
            "409/409 [==============================] - 6s 14ms/step - loss: 51.2578 - mean_squared_error: 24497999872.0000 - val_loss: 46.4335 - val_mean_squared_error: 21470156800.0000\n",
            "Epoch 3/5\n",
            "409/409 [==============================] - 6s 14ms/step - loss: 44.3270 - mean_squared_error: 19070062592.0000 - val_loss: 44.3288 - val_mean_squared_error: 20097935360.0000\n",
            "Epoch 4/5\n",
            "409/409 [==============================] - 5s 13ms/step - loss: 43.1453 - mean_squared_error: 17426747392.0000 - val_loss: 43.3378 - val_mean_squared_error: 18809954304.0000\n",
            "Epoch 5/5\n",
            "409/409 [==============================] - 6s 15ms/step - loss: 42.6618 - mean_squared_error: 16955040768.0000 - val_loss: 42.8802 - val_mean_squared_error: 18034825216.0000\n"
          ]
        }
      ]
    },
    {
      "cell_type": "markdown",
      "id": "05214e09-3642-488e-9499-1659520cb329",
      "metadata": {
        "id": "05214e09-3642-488e-9499-1659520cb329"
      },
      "source": [
        "## 5. Ajuste refinado de los parámetros con más epochs. [Opcional]\n",
        "\n",
        "Por último vamos a realizar un entrenamiento más largo para ver hasta donde llega el rendimiento de nuestro modelo."
      ]
    },
    {
      "cell_type": "markdown",
      "id": "bce78f8d-3b8e-4450-8d7e-3545682b87e6",
      "metadata": {
        "tags": [],
        "id": "bce78f8d-3b8e-4450-8d7e-3545682b87e6"
      },
      "source": [
        "### <font color=\"#004D7F\" size=4>Ejercicio 11 [Opcional]</font>\n",
        "\n",
        "**¿Entre los entrenamientos usando learning rates igual a 0.001, 0.1 y 0.0001 cual ha funcionado mejor?**\n",
        "\n",
        "Con el experimento que mejor haya funcionado haz un entrenamiento usando 30 epochs y ver que tal funciona el entrenamiento con más epochs."
      ]
    },
    {
      "cell_type": "code",
      "execution_count": 62,
      "id": "c29c834b-2c2e-4d03-b870-a2078f76c44c",
      "metadata": {
        "colab": {
          "base_uri": "https://localhost:8080/",
          "height": 607
        },
        "id": "c29c834b-2c2e-4d03-b870-a2078f76c44c",
        "outputId": "51478e66-5048-4296-d164-d64230f56d8d"
      },
      "outputs": [
        {
          "output_type": "display_data",
          "data": {
            "text/plain": [
              "<Figure size 1000x600 with 1 Axes>"
            ],
            "image/png": "[encoded data removed]"
          },
          "metadata": {}
        }
      ],
      "source": [
        "# Pérdida final de cada experimento\n",
        "losses = [35.1648, 99.8784, 42.6618]\n",
        "\n",
        "# Nombres de las arquitecturas\n",
        "architectures = ['Arquitectura LR 0.001', 'Arquitectura LR 0.1', 'Arquitectura LR 0.0001']\n",
        "\n",
        "# Crear el gráfico de barras\n",
        "plt.figure(figsize=(10, 6))\n",
        "plt.bar(architectures, losses, color='skyblue')\n",
        "plt.xlabel('Arquitectura de la red')\n",
        "plt.ylabel('Pérdida final')\n",
        "plt.title('Comparación de pérdida final entre arquitecturas')\n",
        "plt.xticks(rotation=45)\n",
        "plt.ylim(min(losses) - 2, max(losses) + 2)\n",
        "plt.grid(axis='y', linestyle='--', alpha=0.7)\n",
        "plt.tight_layout()\n",
        "plt.show()"
      ]
    },
    {
      "cell_type": "markdown",
      "source": [
        "A pesar de haber ajustado los valores del learning rate entre sus extremos, la mejor arquitectura sigue siendo la que solo utiliza 0.001 ya que es un punto medio entre los saltos que debe dar el modelo para alcanzar una mejora significativa al momento de predecir los datos.\n",
        "\n",
        "La arquitectura de 0.1 no pudo obtener mejor calificacion debido a que en solo 5 epoch los saltos de 1 no llegarian y aunque por el contrario la de 0.0001 dio mejores resultados que esta ultima llego un punto donde se estanca en el numero de perdida."
      ],
      "metadata": {
        "id": "CPXlptZkoLtD"
      },
      "id": "CPXlptZkoLtD"
    },
    {
      "cell_type": "code",
      "source": [
        "# Completar\n",
        "# Arquitectura de la red\n",
        "model4 = tf.keras.models.Sequential([\n",
        "  # Capa de entrada\n",
        "  tf.keras.layers.Input(shape=(9,)),\n",
        "\n",
        "  # Capa oculta\n",
        "  tf.keras.layers.Dense(1024, activation='relu'),\n",
        "  tf.keras.layers.Dense(512, activation='relu'),\n",
        "  tf.keras.layers.Dense(256, activation='relu'),\n",
        "  tf.keras.layers.Dense(128, activation='relu'),\n",
        "  tf.keras.layers.Dense(64, activation='relu'),\n",
        "  tf.keras.layers.Dense(32, activation='relu'),\n",
        "  tf.keras.layers.Dense(16, activation='relu'),\n",
        "\n",
        "  # Capa de salida\n",
        "  tf.keras.layers.Dense(1)\n",
        "])\n",
        "\n",
        "model4.summary()\n",
        "\n",
        "#Optimizador: adam,  Learning Rate: 0.001\n",
        "\n",
        "opt = tf.keras.optimizers.Adam(\n",
        "    learning_rate=0.001\n",
        ")\n",
        "\n",
        "#Compilar el modelo\n",
        "model4.compile(optimizer=opt,\n",
        "              loss= actual_loss,\n",
        "              metrics=['mean_squared_error'])"
      ],
      "metadata": {
        "colab": {
          "base_uri": "https://localhost:8080/"
        },
        "id": "l27h1PCxpQjs",
        "outputId": "6193ec42-15d9-4b12-f2b3-1c5b71ec681e"
      },
      "id": "l27h1PCxpQjs",
      "execution_count": 66,
      "outputs": [
        {
          "output_type": "stream",
          "name": "stdout",
          "text": [
            "Model: \"sequential_11\"\n",
            "_________________________________________________________________\n",
            " Layer (type)                Output Shape              Param #   \n",
            "=================================================================\n",
            " dense_71 (Dense)            (None, 1024)              10240     \n",
            "                                                                 \n",
            " dense_72 (Dense)            (None, 512)               524800    \n",
            "                                                                 \n",
            " dense_73 (Dense)            (None, 256)               131328    \n",
            "                                                                 \n",
            " dense_74 (Dense)            (None, 128)               32896     \n",
            "                                                                 \n",
            " dense_75 (Dense)            (None, 64)                8256      \n",
            "                                                                 \n",
            " dense_76 (Dense)            (None, 32)                2080      \n",
            "                                                                 \n",
            " dense_77 (Dense)            (None, 16)                528       \n",
            "                                                                 \n",
            " dense_78 (Dense)            (None, 1)                 17        \n",
            "                                                                 \n",
            "=================================================================\n",
            "Total params: 710145 (2.71 MB)\n",
            "Trainable params: 710145 (2.71 MB)\n",
            "Non-trainable params: 0 (0.00 Byte)\n",
            "_________________________________________________________________\n"
          ]
        }
      ]
    },
    {
      "cell_type": "code",
      "source": [
        "hist = model4.fit(x_train, y_train, validation_split=0.2, epochs=30)"
      ],
      "metadata": {
        "colab": {
          "base_uri": "https://localhost:8080/"
        },
        "id": "37qMERsbpboH",
        "outputId": "1ea9f82f-3d37-4ed5-a511-fb3ae8f0d78e"
      },
      "id": "37qMERsbpboH",
      "execution_count": 67,
      "outputs": [
        {
          "output_type": "stream",
          "name": "stdout",
          "text": [
            "Epoch 1/30\n",
            "409/409 [==============================] - 8s 14ms/step - loss: 50.8229 - mean_squared_error: 22991306752.0000 - val_loss: 43.6934 - val_mean_squared_error: 19469809664.0000\n",
            "Epoch 2/30\n",
            "409/409 [==============================] - 7s 16ms/step - loss: 42.8805 - mean_squared_error: 16556506112.0000 - val_loss: 40.9677 - val_mean_squared_error: 15782969344.0000\n",
            "Epoch 3/30\n",
            "409/409 [==============================] - 5s 13ms/step - loss: 40.1679 - mean_squared_error: 14217550848.0000 - val_loss: 37.3446 - val_mean_squared_error: 12243303424.0000\n",
            "Epoch 4/30\n",
            "409/409 [==============================] - 7s 16ms/step - loss: 37.2086 - mean_squared_error: 11483318272.0000 - val_loss: 43.4607 - val_mean_squared_error: 11111796736.0000\n",
            "Epoch 5/30\n",
            "409/409 [==============================] - 6s 14ms/step - loss: 35.3150 - mean_squared_error: 10265684992.0000 - val_loss: 32.1481 - val_mean_squared_error: 8589692416.0000\n",
            "Epoch 6/30\n",
            "409/409 [==============================] - 7s 18ms/step - loss: 33.5276 - mean_squared_error: 9218859008.0000 - val_loss: 31.8755 - val_mean_squared_error: 7550931968.0000\n",
            "Epoch 7/30\n",
            "409/409 [==============================] - 6s 14ms/step - loss: 32.5669 - mean_squared_error: 8639153152.0000 - val_loss: 30.5569 - val_mean_squared_error: 8343114752.0000\n",
            "Epoch 8/30\n",
            "409/409 [==============================] - 7s 16ms/step - loss: 32.3409 - mean_squared_error: 8588833792.0000 - val_loss: 30.9401 - val_mean_squared_error: 6730697728.0000\n",
            "Epoch 9/30\n",
            "409/409 [==============================] - 6s 13ms/step - loss: 30.7486 - mean_squared_error: 7796163072.0000 - val_loss: 28.3733 - val_mean_squared_error: 7262409216.0000\n",
            "Epoch 10/30\n",
            "409/409 [==============================] - 6s 15ms/step - loss: 30.9240 - mean_squared_error: 7926136320.0000 - val_loss: 29.7189 - val_mean_squared_error: 6385635840.0000\n",
            "Epoch 11/30\n",
            "409/409 [==============================] - 6s 14ms/step - loss: 30.0553 - mean_squared_error: 7552751616.0000 - val_loss: 28.7520 - val_mean_squared_error: 8002551808.0000\n",
            "Epoch 12/30\n",
            "409/409 [==============================] - 6s 14ms/step - loss: 29.5792 - mean_squared_error: 7262795776.0000 - val_loss: 27.9314 - val_mean_squared_error: 6053916160.0000\n",
            "Epoch 13/30\n",
            "409/409 [==============================] - 6s 15ms/step - loss: 29.3843 - mean_squared_error: 7215831552.0000 - val_loss: 28.6346 - val_mean_squared_error: 5728328192.0000\n",
            "Epoch 14/30\n",
            "409/409 [==============================] - 5s 13ms/step - loss: 29.0097 - mean_squared_error: 6953040384.0000 - val_loss: 27.3901 - val_mean_squared_error: 5787616256.0000\n",
            "Epoch 15/30\n",
            "409/409 [==============================] - 6s 16ms/step - loss: 28.3912 - mean_squared_error: 6668345344.0000 - val_loss: 26.5774 - val_mean_squared_error: 6862964736.0000\n",
            "Epoch 16/30\n",
            "409/409 [==============================] - 5s 13ms/step - loss: 28.7883 - mean_squared_error: 6893960704.0000 - val_loss: 27.8384 - val_mean_squared_error: 5292486144.0000\n",
            "Epoch 17/30\n",
            "409/409 [==============================] - 6s 16ms/step - loss: 28.0213 - mean_squared_error: 6521025024.0000 - val_loss: 31.8680 - val_mean_squared_error: 10246743040.0000\n",
            "Epoch 18/30\n",
            "409/409 [==============================] - 5s 13ms/step - loss: 28.1629 - mean_squared_error: 6592798720.0000 - val_loss: 26.3867 - val_mean_squared_error: 6132469248.0000\n",
            "Epoch 19/30\n",
            "409/409 [==============================] - 6s 16ms/step - loss: 27.4262 - mean_squared_error: 6235953152.0000 - val_loss: 25.2961 - val_mean_squared_error: 6273294336.0000\n",
            "Epoch 20/30\n",
            "409/409 [==============================] - 5s 13ms/step - loss: 27.3064 - mean_squared_error: 6255926784.0000 - val_loss: 26.2282 - val_mean_squared_error: 5639965696.0000\n",
            "Epoch 21/30\n",
            "409/409 [==============================] - 6s 16ms/step - loss: 26.8070 - mean_squared_error: 5988067328.0000 - val_loss: 26.1741 - val_mean_squared_error: 6764996096.0000\n",
            "Epoch 22/30\n",
            "409/409 [==============================] - 5s 13ms/step - loss: 27.9262 - mean_squared_error: 6516008960.0000 - val_loss: 25.5364 - val_mean_squared_error: 5328278528.0000\n",
            "Epoch 23/30\n",
            "409/409 [==============================] - 6s 16ms/step - loss: 27.0269 - mean_squared_error: 5987260416.0000 - val_loss: 28.4221 - val_mean_squared_error: 7641791488.0000\n",
            "Epoch 24/30\n",
            "409/409 [==============================] - 6s 14ms/step - loss: 27.1576 - mean_squared_error: 6138586624.0000 - val_loss: 25.7212 - val_mean_squared_error: 5753183232.0000\n",
            "Epoch 25/30\n",
            "409/409 [==============================] - 7s 18ms/step - loss: 27.0223 - mean_squared_error: 6086298624.0000 - val_loss: 25.1282 - val_mean_squared_error: 5232503808.0000\n",
            "Epoch 26/30\n",
            "409/409 [==============================] - 6s 14ms/step - loss: 26.0595 - mean_squared_error: 5597596160.0000 - val_loss: 25.2432 - val_mean_squared_error: 4920031232.0000\n",
            "Epoch 27/30\n",
            "409/409 [==============================] - 6s 15ms/step - loss: 26.6146 - mean_squared_error: 5877443072.0000 - val_loss: 24.7292 - val_mean_squared_error: 6296925184.0000\n",
            "Epoch 28/30\n",
            "409/409 [==============================] - 6s 14ms/step - loss: 26.6500 - mean_squared_error: 5859466240.0000 - val_loss: 25.2210 - val_mean_squared_error: 4757536256.0000\n",
            "Epoch 29/30\n",
            "409/409 [==============================] - 6s 15ms/step - loss: 26.5318 - mean_squared_error: 5841019392.0000 - val_loss: 26.1998 - val_mean_squared_error: 7004544000.0000\n",
            "Epoch 30/30\n",
            "409/409 [==============================] - 6s 15ms/step - loss: 26.4902 - mean_squared_error: 5776141824.0000 - val_loss: 26.3367 - val_mean_squared_error: 4675598848.0000\n"
          ]
        }
      ]
    },
    {
      "cell_type": "markdown",
      "id": "122a9867-c26b-4a60-9990-5676eb76b7b6",
      "metadata": {
        "tags": [],
        "id": "122a9867-c26b-4a60-9990-5676eb76b7b6"
      },
      "source": [
        "### <font color=\"#004D7F\" size=4>Ejercicio 12 [Opcional]</font>\n",
        "\n",
        "Muestra en una gráfica como ha evolucionado el entrenamiento."
      ]
    },
    {
      "cell_type": "code",
      "execution_count": 68,
      "id": "4b6ac9ba-15d1-40b1-b052-7b2d1324c0f9",
      "metadata": {
        "colab": {
          "base_uri": "https://localhost:8080/",
          "height": 472
        },
        "id": "4b6ac9ba-15d1-40b1-b052-7b2d1324c0f9",
        "outputId": "f0f0c606-7207-4723-8875-0dc6f869fae6"
      },
      "outputs": [
        {
          "output_type": "display_data",
          "data": {
            "text/plain": [
              "<Figure size 640x480 with 1 Axes>"
            ],
            "image/png": "[encoded data removed]"
          },
          "metadata": {}
        }
      ],
      "source": [
        "# Obtener la pérdida y las métricas del historial\n",
        "loss = hist.history['loss']\n",
        "val_loss = hist.history.get('val_loss')\n",
        "\n",
        "# Crear una lista con el número de épocas\n",
        "epochs = range(1, len(loss) + 1)\n",
        "\n",
        "# Graficar la pérdida en el conjunto de entrenamiento\n",
        "plt.plot(epochs, loss, label='Training loss', marker='o')\n",
        "if val_loss is not None:\n",
        "    # Graficar la pérdida en el conjunto de validación si está disponible\n",
        "    plt.plot(epochs, val_loss, label='Validation loss', marker='x')\n",
        "plt.title('Training and Validation Loss')\n",
        "plt.xlabel('Epochs')\n",
        "plt.ylabel('Loss')\n",
        "plt.legend()\n",
        "plt.grid(True)\n",
        "plt.show()"
      ]
    }
  ],
  "metadata": {
    "kernelspec": {
      "display_name": "Python 3 (ipykernel)",
      "language": "python",
      "name": "python3"
    },
    "language_info": {
      "codemirror_mode": {
        "name": "ipython",
        "version": 3
      },
      "file_extension": ".py",
      "mimetype": "text/x-python",
      "name": "python",
      "nbconvert_exporter": "python",
      "pygments_lexer": "ipython3",
      "version": "3.8.8"
    },
    "colab": {
      "provenance": [],
      "toc_visible": true
    }
  },
  "nbformat": 4,
  "nbformat_minor": 5
}